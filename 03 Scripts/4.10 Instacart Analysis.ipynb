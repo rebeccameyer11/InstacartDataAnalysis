{
 "cells": [
  {
   "cell_type": "markdown",
   "id": "8f04a0ca-deae-4ff3-959a-bfddf415bdf9",
   "metadata": {},
   "source": [
    "# Exercise 4.10 Final Task - Part 1"
   ]
  },
  {
   "cell_type": "markdown",
   "id": "e724c1a8-422c-45ea-a0b7-02c3b64e2416",
   "metadata": {},
   "source": [
    "## Table of Contents:"
   ]
  },
  {
   "cell_type": "markdown",
   "id": "ceab5774-e68f-4bac-955f-c00b8510e379",
   "metadata": {},
   "source": [
    "#### 01. Importing libraries\n",
    "#### 02. Task 4.10 Work\n",
    "#### 03. Crosstab Work"
   ]
  },
  {
   "cell_type": "markdown",
   "id": "0df08e04-251d-4e57-bc37-a224892d7f5d",
   "metadata": {},
   "source": [
    "### 01. Importing Libraries and Data"
   ]
  },
  {
   "cell_type": "code",
   "execution_count": 1,
   "id": "d8551868-bee1-4c39-b3e6-f7767134e007",
   "metadata": {},
   "outputs": [],
   "source": [
    "# Import Libraries\n",
    "\n",
    "import pandas as pd\n",
    "import numpy as np\n",
    "import os\n",
    "import matplotlib.pyplot as plt\n",
    "import seaborn as sns\n",
    "import scipy"
   ]
  },
  {
   "cell_type": "code",
   "execution_count": 2,
   "id": "23e58aea-a7a9-48bd-86d5-1c7301d3efc8",
   "metadata": {},
   "outputs": [],
   "source": [
    "# Import Data\n",
    "\n",
    "path = r'C:\\Users\\Rebecca\\Instacart Basket Analysis'"
   ]
  },
  {
   "cell_type": "code",
   "execution_count": 3,
   "id": "7c44c91e-ddc1-40b6-b4cf-6083db95b840",
   "metadata": {},
   "outputs": [
    {
     "data": {
      "text/plain": [
       "'C:\\\\Users\\\\Rebecca\\\\Instacart Basket Analysis'"
      ]
     },
     "execution_count": 3,
     "metadata": {},
     "output_type": "execute_result"
    }
   ],
   "source": [
    "path"
   ]
  },
  {
   "cell_type": "code",
   "execution_count": 4,
   "id": "c35c1997-9345-49d6-95b5-1691d3a49071",
   "metadata": {},
   "outputs": [],
   "source": [
    "ords_prods_cust_merge = pd.read_pickle(os.path.join(path, '02 Data', 'Prepared Data', 'df_ords_prods_cust_merge.pkl'))"
   ]
  },
  {
   "cell_type": "markdown",
   "id": "5af3a7e6-9655-4521-b5ca-c7cd2c6858b4",
   "metadata": {},
   "source": [
    "### 02. Task 4.10 Work"
   ]
  },
  {
   "cell_type": "code",
   "execution_count": 45,
   "id": "021a07ed-2ee2-42a4-aac4-73a20cdf26a9",
   "metadata": {},
   "outputs": [
    {
     "name": "stdout",
     "output_type": "stream",
     "text": [
      "<class 'pandas.core.frame.DataFrame'>\n",
      "RangeIndex: 32404859 entries, 0 to 32404858\n",
      "Data columns (total 35 columns):\n",
      " #   Column                         Dtype   \n",
      "---  ------                         -----   \n",
      " 0   order_id                       int32   \n",
      " 1   user_id                        int32   \n",
      " 2   order_number                   int8    \n",
      " 3   orders_day_of_week             int8    \n",
      " 4   order_hour_of_day              int8    \n",
      " 5   days_since_prior_order         float16 \n",
      " 6   product_id                     int32   \n",
      " 7   add_to_cart_order              int32   \n",
      " 8   reordered                      int8    \n",
      " 9   _merge                         category\n",
      " 10  product_name                   object  \n",
      " 11  aisle_id                       int8    \n",
      " 12  department_id                  int8    \n",
      " 13  prices                         float32 \n",
      " 14  source                         category\n",
      " 15  price_range_loc                object  \n",
      " 16  busiest_day                    object  \n",
      " 17  busiest_days_breakdown         object  \n",
      " 18  busiest_period_of_day          object  \n",
      " 19  max_order                      int8    \n",
      " 20  loyalty_flag                   object  \n",
      " 21  average_spend_price            float32 \n",
      " 22  spender_type                   object  \n",
      " 23  average_days_since_last_order  float16 \n",
      " 24  order_frequency_flag           object  \n",
      " 25  first_name                     object  \n",
      " 26  last_name                      object  \n",
      " 27  gender                         object  \n",
      " 28  state                          object  \n",
      " 29  age                            int32   \n",
      " 30  date_joined                    object  \n",
      " 31  dependants                     int32   \n",
      " 32  family_status                  object  \n",
      " 33  income                         int32   \n",
      " 34  True                           category\n",
      "dtypes: category(3), float16(2), float32(2), int32(7), int8(7), object(14)\n",
      "memory usage: 4.9+ GB\n"
     ]
    }
   ],
   "source": [
    "ords_prods_cust_merge.info()"
   ]
  },
  {
   "cell_type": "markdown",
   "id": "8341d4d3-5415-4470-bcd0-96085425a43b",
   "metadata": {},
   "source": [
    " #### - Question 2: Address any PII security implications"
   ]
  },
  {
   "cell_type": "code",
   "execution_count": 46,
   "id": "a0032c14-1b00-44b1-b25d-f0ee84003310",
   "metadata": {},
   "outputs": [],
   "source": [
    "# Dropping PII columns of first name and last name\n",
    "\n",
    "ords_prods_cust_merge.drop(columns = ['first_name', 'last_name'], inplace = True)"
   ]
  },
  {
   "cell_type": "code",
   "execution_count": 47,
   "id": "0645d363-7acf-4260-b3a0-8e54240ca3f2",
   "metadata": {},
   "outputs": [
    {
     "name": "stdout",
     "output_type": "stream",
     "text": [
      "<class 'pandas.core.frame.DataFrame'>\n",
      "RangeIndex: 32404859 entries, 0 to 32404858\n",
      "Data columns (total 33 columns):\n",
      " #   Column                         Dtype   \n",
      "---  ------                         -----   \n",
      " 0   order_id                       int32   \n",
      " 1   user_id                        int32   \n",
      " 2   order_number                   int8    \n",
      " 3   orders_day_of_week             int8    \n",
      " 4   order_hour_of_day              int8    \n",
      " 5   days_since_prior_order         float16 \n",
      " 6   product_id                     int32   \n",
      " 7   add_to_cart_order              int32   \n",
      " 8   reordered                      int8    \n",
      " 9   _merge                         category\n",
      " 10  product_name                   object  \n",
      " 11  aisle_id                       int8    \n",
      " 12  department_id                  int8    \n",
      " 13  prices                         float32 \n",
      " 14  source                         category\n",
      " 15  price_range_loc                object  \n",
      " 16  busiest_day                    object  \n",
      " 17  busiest_days_breakdown         object  \n",
      " 18  busiest_period_of_day          object  \n",
      " 19  max_order                      int8    \n",
      " 20  loyalty_flag                   object  \n",
      " 21  average_spend_price            float32 \n",
      " 22  spender_type                   object  \n",
      " 23  average_days_since_last_order  float16 \n",
      " 24  order_frequency_flag           object  \n",
      " 25  gender                         object  \n",
      " 26  state                          object  \n",
      " 27  age                            int32   \n",
      " 28  date_joined                    object  \n",
      " 29  dependants                     int32   \n",
      " 30  family_status                  object  \n",
      " 31  income                         int32   \n",
      " 32  True                           category\n",
      "dtypes: category(3), float16(2), float32(2), int32(7), int8(7), object(12)\n",
      "memory usage: 4.4+ GB\n"
     ]
    }
   ],
   "source": [
    "# Verifying dropped PII columns\n",
    "\n",
    "ords_prods_cust_merge.info()"
   ]
  },
  {
   "cell_type": "markdown",
   "id": "1f1a243f-6289-4884-b717-0b9e0f45e9b9",
   "metadata": {},
   "source": [
    "#### - Question 3: Create Regions"
   ]
  },
  {
   "cell_type": "markdown",
   "id": "69dda8a7-6a0e-4a42-86d7-fb7a29ca9cfb",
   "metadata": {},
   "source": [
    "Answer to question 3a:"
   ]
  },
  {
   "cell_type": "code",
   "execution_count": 48,
   "id": "fc4ab920-a385-4518-8953-2761b020d182",
   "metadata": {},
   "outputs": [
    {
     "data": {
      "text/plain": [
       "state\n",
       "Pennsylvania            667082\n",
       "California              659783\n",
       "Rhode Island            656913\n",
       "Georgia                 656389\n",
       "New Mexico              654494\n",
       "Arizona                 653964\n",
       "North Carolina          651900\n",
       "Oklahoma                651739\n",
       "Alaska                  648495\n",
       "Minnesota               647825\n",
       "Massachusetts           646358\n",
       "Wyoming                 644255\n",
       "Virginia                641421\n",
       "Missouri                640732\n",
       "Texas                   640394\n",
       "Colorado                639280\n",
       "Maine                   638583\n",
       "North Dakota            638491\n",
       "Alabama                 638003\n",
       "Kansas                  637538\n",
       "Louisiana               637482\n",
       "Delaware                637024\n",
       "South Carolina          636754\n",
       "Oregon                  636425\n",
       "Arkansas                636144\n",
       "Nevada                  636139\n",
       "New York                635983\n",
       "Montana                 635265\n",
       "South Dakota            633772\n",
       "Illinois                633024\n",
       "Hawaii                  632901\n",
       "Washington              632852\n",
       "Mississippi             632675\n",
       "Kentucky                632490\n",
       "Michigan                630928\n",
       "Florida                 629027\n",
       "Ohio                    628319\n",
       "Wisconsin               628108\n",
       "New Jersey              627692\n",
       "Indiana                 627282\n",
       "Maryland                626579\n",
       "Nebraska                625813\n",
       "Iowa                    625493\n",
       "Connecticut             623022\n",
       "Tennessee               617873\n",
       "New Hampshire           615378\n",
       "District of Columbia    613695\n",
       "West Virginia           612296\n",
       "Utah                    611941\n",
       "Vermont                 611725\n",
       "Idaho                   607119\n",
       "Name: count, dtype: int64"
      ]
     },
     "execution_count": 48,
     "metadata": {},
     "output_type": "execute_result"
    }
   ],
   "source": [
    "# Verifying values in the state column to properly build the function\n",
    "\n",
    "ords_prods_cust_merge['state'].value_counts(dropna = False)"
   ]
  },
  {
   "cell_type": "code",
   "execution_count": 49,
   "id": "7cd45483-7a74-4969-a60b-dc598501f303",
   "metadata": {},
   "outputs": [],
   "source": [
    "# Creating the region_breakdown labels\n",
    "\n",
    "def region_breakdown(row):\n",
    "\n",
    "    if row['state'] in ('Maine', 'New Hampshire', 'Vermont', 'Massachusetts', 'Rhode Island', 'Connecticut', 'New York', 'Pennsylvania', 'New Jersey'):\n",
    "        return 'Region 1'\n",
    "    elif row['state'] in ('Wisconsin', 'Michigan', 'Illinois', 'Indiana', 'Ohio', 'North Dakota', 'South Dakota', 'Nebraska', 'Kansas', 'Minnesota', 'Iowa', 'Missouri'):\n",
    "        return 'Region 2'\n",
    "    elif row['state'] in ('Delaware', 'Maryland', 'District of Columbia', 'Virginia', 'West Virginia', 'North Carolina', 'South Carolina', 'Georgia', 'Florida', 'Kentucky', 'Tennessee', 'Mississippi', 'Alabama', 'Oklahoma', 'Texas', 'Arkansas', 'Lousiana'):\n",
    "        return 'Region 3'\n",
    "    elif row['state'] in ('Idaho', 'Montana', 'Wyoming', 'Nevada', 'Utah', 'Colorado', 'Arizona', 'New Mexico', 'Alaska', 'Washington', 'Oregon', 'California', 'Hawaii'):\n",
    "        return 'Region 4'\n",
    "    else: return 'Undetermined'"
   ]
  },
  {
   "cell_type": "code",
   "execution_count": 50,
   "id": "e41ecef2-98ce-41b0-8540-6dff6786ce23",
   "metadata": {},
   "outputs": [],
   "source": [
    "# Creating the region column\n",
    "\n",
    "ords_prods_cust_merge['region'] = ords_prods_cust_merge.apply(region_breakdown, axis=1)"
   ]
  },
  {
   "cell_type": "code",
   "execution_count": 51,
   "id": "1f5cf9c5-4d14-40f6-8a68-f4f96e2345e4",
   "metadata": {},
   "outputs": [
    {
     "data": {
      "text/plain": [
       "region\n",
       "Region 3        10154403\n",
       "Region 4         8292913\n",
       "Region 2         7597325\n",
       "Region 1         5722736\n",
       "Undetermined      637482\n",
       "Name: count, dtype: int64"
      ]
     },
     "execution_count": 51,
     "metadata": {},
     "output_type": "execute_result"
    }
   ],
   "source": [
    "# Checking values in newly created region column \n",
    "\n",
    "ords_prods_cust_merge['region'].value_counts(dropna = False)"
   ]
  },
  {
   "cell_type": "markdown",
   "id": "5f8694cc-065e-4520-8787-5b9e55e209f8",
   "metadata": {},
   "source": [
    "Answer to question 3b:"
   ]
  },
  {
   "cell_type": "code",
   "execution_count": 78,
   "id": "f6616052-e1f2-4208-a927-a59bd5a67c35",
   "metadata": {},
   "outputs": [
    {
     "data": {
      "text/plain": [
       "Index(['order_id', 'user_id', 'order_number', 'orders_day_of_week',\n",
       "       'order_hour_of_day', 'days_since_prior_order', 'product_id',\n",
       "       'add_to_cart_order', 'reordered', '_merge', 'product_name', 'aisle_id',\n",
       "       'department_id', 'prices', 'source', 'price_range_loc', 'busiest_day',\n",
       "       'busiest_days_breakdown', 'busiest_period_of_day', 'max_order',\n",
       "       'loyalty_flag', 'average_spend_price', 'spender_type',\n",
       "       'average_days_since_last_order', 'order_frequency_flag', 'gender',\n",
       "       'state', 'age', 'date_joined', 'dependants', 'family_status', 'income',\n",
       "       'True', 'region', 'exclude_label_loc'],\n",
       "      dtype='object')"
      ]
     },
     "execution_count": 78,
     "metadata": {},
     "output_type": "execute_result"
    }
   ],
   "source": [
    "ords_prods_cust_merge.columns"
   ]
  },
  {
   "cell_type": "code",
   "execution_count": 52,
   "id": "64a459b0-a9d2-445d-b3b9-3c5a56899411",
   "metadata": {},
   "outputs": [
    {
     "data": {
      "text/plain": [
       "spender_type\n",
       "Low spender     21760937\n",
       "High spender    10643922\n",
       "Name: count, dtype: int64"
      ]
     },
     "execution_count": 52,
     "metadata": {},
     "output_type": "execute_result"
    }
   ],
   "source": [
    "ords_prods_cust_merge['spender_type'].value_counts(dropna = False)"
   ]
  },
  {
   "cell_type": "code",
   "execution_count": 53,
   "id": "4a8c3417-37f8-41ab-be10-42587d09cbbf",
   "metadata": {},
   "outputs": [
    {
     "data": {
      "image/png": "[encoded data removed]",
      "text/plain": [
       "<Figure size 640x480 with 1 Axes>"
      ]
     },
     "metadata": {},
     "output_type": "display_data"
    }
   ],
   "source": [
    "# Creating bar chart to see different in spending \n",
    "\n",
    "bar = ords_prods_cust_merge.value_counts(subset=['region', 'spender_type']).plot.bar()"
   ]
  },
  {
   "cell_type": "code",
   "execution_count": 54,
   "id": "6a83a488-4126-4442-9c33-3174a925b777",
   "metadata": {},
   "outputs": [],
   "source": [
    "# Exporting chart\n",
    "\n",
    "bar.figure.savefig(os.path.join(path, '04 Analysis','Visualizations', 'bar_regions_spender_final.png'))"
   ]
  },
  {
   "cell_type": "markdown",
   "id": "91dc91ae-9b02-483b-b45e-37740250b6d2",
   "metadata": {},
   "source": [
    "#### - Question 4: Exclusion flag for low-activity customers"
   ]
  },
  {
   "cell_type": "code",
   "execution_count": 55,
   "id": "2dc8964d-957a-48f6-a6a9-2fbfbfa37e3e",
   "metadata": {},
   "outputs": [],
   "source": [
    "# Creating exclusion flag\n",
    "\n",
    "def exclude_label(row):\n",
    "    if row['max_order'] < 5:\n",
    "        return 'Exclude'\n",
    "    else: return 'Include'"
   ]
  },
  {
   "cell_type": "code",
   "execution_count": 56,
   "id": "cb301b4a-c9e3-4a09-9532-689931f9824c",
   "metadata": {},
   "outputs": [],
   "source": [
    "# Applying the function\n",
    "\n",
    "ords_prods_cust_merge.loc[ords_prods_cust_merge['max_order'] < 5, 'exclude_label_loc'] = 'Exclude'"
   ]
  },
  {
   "cell_type": "code",
   "execution_count": 57,
   "id": "dcec5d41-4a4b-40ed-912c-11682f9786e0",
   "metadata": {},
   "outputs": [
    {
     "data": {
      "text/plain": [
       "exclude_label_loc\n",
       "NaN        30964564\n",
       "Exclude     1440295\n",
       "Name: count, dtype: int64"
      ]
     },
     "execution_count": 57,
     "metadata": {},
     "output_type": "execute_result"
    }
   ],
   "source": [
    "ords_prods_cust_merge['exclude_label_loc'].value_counts(dropna = False)"
   ]
  },
  {
   "cell_type": "code",
   "execution_count": 58,
   "id": "226b33ec-7067-48db-b8ff-495f0be50fb5",
   "metadata": {},
   "outputs": [],
   "source": [
    "# Removing exclusions from df\n",
    "\n",
    "ords_prods_cust_filtered = ords_prods_cust_merge[ords_prods_cust_merge['exclude_label_loc'] != 'Exclude'].copy()"
   ]
  },
  {
   "cell_type": "code",
   "execution_count": 59,
   "id": "8c660f34-c8da-458b-8c50-8a6943c0d076",
   "metadata": {},
   "outputs": [],
   "source": [
    "# Creating new df to export\n",
    "\n",
    "ords_prods_cust_excludes = ords_prods_cust_merge[ords_prods_cust_merge['exclude_label_loc'] == 'Exclude'].copy()"
   ]
  },
  {
   "cell_type": "code",
   "execution_count": 79,
   "id": "e2b3f0ce-12fb-40cd-b8e4-4d31a6349ee1",
   "metadata": {},
   "outputs": [
    {
     "data": {
      "text/plain": [
       "Index(['order_id', 'user_id', 'order_number', 'orders_day_of_week',\n",
       "       'order_hour_of_day', 'days_since_prior_order', 'product_id',\n",
       "       'add_to_cart_order', 'reordered', '_merge', 'product_name', 'aisle_id',\n",
       "       'department_id', 'prices', 'source', 'price_range_loc', 'busiest_day',\n",
       "       'busiest_days_breakdown', 'busiest_period_of_day', 'max_order',\n",
       "       'loyalty_flag', 'average_spend_price', 'spender_type',\n",
       "       'average_days_since_last_order', 'order_frequency_flag', 'gender',\n",
       "       'state', 'age', 'date_joined', 'dependants', 'family_status', 'income',\n",
       "       'True', 'region', 'exclude_label_loc'],\n",
       "      dtype='object')"
      ]
     },
     "execution_count": 79,
     "metadata": {},
     "output_type": "execute_result"
    }
   ],
   "source": [
    "ords_prods_cust_excludes.columns"
   ]
  },
  {
   "cell_type": "code",
   "execution_count": 60,
   "id": "1ab62c0f-cf95-4d7a-aba6-0196863d5a88",
   "metadata": {},
   "outputs": [],
   "source": [
    "# Exporting exclusions\n",
    "\n",
    "ords_prods_cust_excludes.to_csv('excluded_customers.csv', index=False)"
   ]
  },
  {
   "cell_type": "code",
   "execution_count": 61,
   "id": "969d8402-ceab-4d1f-9f54-df67df37943b",
   "metadata": {},
   "outputs": [
    {
     "name": "stdout",
     "output_type": "stream",
     "text": [
      "<class 'pandas.core.frame.DataFrame'>\n",
      "Index: 30964564 entries, 0 to 32404858\n",
      "Data columns (total 35 columns):\n",
      " #   Column                         Dtype   \n",
      "---  ------                         -----   \n",
      " 0   order_id                       int32   \n",
      " 1   user_id                        int32   \n",
      " 2   order_number                   int8    \n",
      " 3   orders_day_of_week             int8    \n",
      " 4   order_hour_of_day              int8    \n",
      " 5   days_since_prior_order         float16 \n",
      " 6   product_id                     int32   \n",
      " 7   add_to_cart_order              int32   \n",
      " 8   reordered                      int8    \n",
      " 9   _merge                         category\n",
      " 10  product_name                   object  \n",
      " 11  aisle_id                       int8    \n",
      " 12  department_id                  int8    \n",
      " 13  prices                         float32 \n",
      " 14  source                         category\n",
      " 15  price_range_loc                object  \n",
      " 16  busiest_day                    object  \n",
      " 17  busiest_days_breakdown         object  \n",
      " 18  busiest_period_of_day          object  \n",
      " 19  max_order                      int8    \n",
      " 20  loyalty_flag                   object  \n",
      " 21  average_spend_price            float32 \n",
      " 22  spender_type                   object  \n",
      " 23  average_days_since_last_order  float16 \n",
      " 24  order_frequency_flag           object  \n",
      " 25  gender                         object  \n",
      " 26  state                          object  \n",
      " 27  age                            int32   \n",
      " 28  date_joined                    object  \n",
      " 29  dependants                     int32   \n",
      " 30  family_status                  object  \n",
      " 31  income                         int32   \n",
      " 32  True                           category\n",
      " 33  region                         object  \n",
      " 34  exclude_label_loc              object  \n",
      "dtypes: category(3), float16(2), float32(2), int32(7), int8(7), object(14)\n",
      "memory usage: 4.9+ GB\n"
     ]
    }
   ],
   "source": [
    "ords_prods_cust_filtered.info()"
   ]
  },
  {
   "cell_type": "markdown",
   "id": "7a3e1e98-ef8f-4954-bfc0-a19dbf5e8cc9",
   "metadata": {},
   "source": [
    "#### - Question 5: Creating profile variables"
   ]
  },
  {
   "cell_type": "code",
   "execution_count": 62,
   "id": "ab9d938c-b851-4fe2-8857-898902c617f7",
   "metadata": {},
   "outputs": [],
   "source": [
    "# Creating subset \n",
    "\n",
    "df = ords_prods_cust_filtered[:1000000]"
   ]
  },
  {
   "cell_type": "code",
   "execution_count": 63,
   "id": "21cd1249-717b-42bb-912a-debab7f3db96",
   "metadata": {},
   "outputs": [
    {
     "data": {
      "text/plain": [
       "(1000000, 35)"
      ]
     },
     "execution_count": 63,
     "metadata": {},
     "output_type": "execute_result"
    }
   ],
   "source": [
    "df.shape"
   ]
  },
  {
   "cell_type": "code",
   "execution_count": 64,
   "id": "1ade6db9-ae3c-47bd-80b5-14e82477e4ed",
   "metadata": {},
   "outputs": [
    {
     "data": {
      "text/html": [
       "<div>\n",
       "<style scoped>\n",
       "    .dataframe tbody tr th:only-of-type {\n",
       "        vertical-align: middle;\n",
       "    }\n",
       "\n",
       "    .dataframe tbody tr th {\n",
       "        vertical-align: top;\n",
       "    }\n",
       "\n",
       "    .dataframe thead th {\n",
       "        text-align: right;\n",
       "    }\n",
       "</style>\n",
       "<table border=\"1\" class=\"dataframe\">\n",
       "  <thead>\n",
       "    <tr style=\"text-align: right;\">\n",
       "      <th></th>\n",
       "      <th>order_id</th>\n",
       "      <th>user_id</th>\n",
       "      <th>order_number</th>\n",
       "      <th>orders_day_of_week</th>\n",
       "      <th>order_hour_of_day</th>\n",
       "      <th>days_since_prior_order</th>\n",
       "      <th>product_id</th>\n",
       "      <th>add_to_cart_order</th>\n",
       "      <th>reordered</th>\n",
       "      <th>_merge</th>\n",
       "      <th>...</th>\n",
       "      <th>gender</th>\n",
       "      <th>state</th>\n",
       "      <th>age</th>\n",
       "      <th>date_joined</th>\n",
       "      <th>dependants</th>\n",
       "      <th>family_status</th>\n",
       "      <th>income</th>\n",
       "      <th>True</th>\n",
       "      <th>region</th>\n",
       "      <th>exclude_label_loc</th>\n",
       "    </tr>\n",
       "  </thead>\n",
       "  <tbody>\n",
       "    <tr>\n",
       "      <th>0</th>\n",
       "      <td>2539329</td>\n",
       "      <td>1</td>\n",
       "      <td>1</td>\n",
       "      <td>2</td>\n",
       "      <td>8</td>\n",
       "      <td>NaN</td>\n",
       "      <td>196</td>\n",
       "      <td>1</td>\n",
       "      <td>0</td>\n",
       "      <td>both</td>\n",
       "      <td>...</td>\n",
       "      <td>Female</td>\n",
       "      <td>Alabama</td>\n",
       "      <td>31</td>\n",
       "      <td>2/17/2019</td>\n",
       "      <td>3</td>\n",
       "      <td>married</td>\n",
       "      <td>40423</td>\n",
       "      <td>both</td>\n",
       "      <td>Region 3</td>\n",
       "      <td>NaN</td>\n",
       "    </tr>\n",
       "    <tr>\n",
       "      <th>1</th>\n",
       "      <td>2539329</td>\n",
       "      <td>1</td>\n",
       "      <td>1</td>\n",
       "      <td>2</td>\n",
       "      <td>8</td>\n",
       "      <td>NaN</td>\n",
       "      <td>14084</td>\n",
       "      <td>2</td>\n",
       "      <td>0</td>\n",
       "      <td>both</td>\n",
       "      <td>...</td>\n",
       "      <td>Female</td>\n",
       "      <td>Alabama</td>\n",
       "      <td>31</td>\n",
       "      <td>2/17/2019</td>\n",
       "      <td>3</td>\n",
       "      <td>married</td>\n",
       "      <td>40423</td>\n",
       "      <td>both</td>\n",
       "      <td>Region 3</td>\n",
       "      <td>NaN</td>\n",
       "    </tr>\n",
       "    <tr>\n",
       "      <th>2</th>\n",
       "      <td>2539329</td>\n",
       "      <td>1</td>\n",
       "      <td>1</td>\n",
       "      <td>2</td>\n",
       "      <td>8</td>\n",
       "      <td>NaN</td>\n",
       "      <td>12427</td>\n",
       "      <td>3</td>\n",
       "      <td>0</td>\n",
       "      <td>both</td>\n",
       "      <td>...</td>\n",
       "      <td>Female</td>\n",
       "      <td>Alabama</td>\n",
       "      <td>31</td>\n",
       "      <td>2/17/2019</td>\n",
       "      <td>3</td>\n",
       "      <td>married</td>\n",
       "      <td>40423</td>\n",
       "      <td>both</td>\n",
       "      <td>Region 3</td>\n",
       "      <td>NaN</td>\n",
       "    </tr>\n",
       "    <tr>\n",
       "      <th>3</th>\n",
       "      <td>2539329</td>\n",
       "      <td>1</td>\n",
       "      <td>1</td>\n",
       "      <td>2</td>\n",
       "      <td>8</td>\n",
       "      <td>NaN</td>\n",
       "      <td>26088</td>\n",
       "      <td>4</td>\n",
       "      <td>0</td>\n",
       "      <td>both</td>\n",
       "      <td>...</td>\n",
       "      <td>Female</td>\n",
       "      <td>Alabama</td>\n",
       "      <td>31</td>\n",
       "      <td>2/17/2019</td>\n",
       "      <td>3</td>\n",
       "      <td>married</td>\n",
       "      <td>40423</td>\n",
       "      <td>both</td>\n",
       "      <td>Region 3</td>\n",
       "      <td>NaN</td>\n",
       "    </tr>\n",
       "    <tr>\n",
       "      <th>4</th>\n",
       "      <td>2539329</td>\n",
       "      <td>1</td>\n",
       "      <td>1</td>\n",
       "      <td>2</td>\n",
       "      <td>8</td>\n",
       "      <td>NaN</td>\n",
       "      <td>26405</td>\n",
       "      <td>5</td>\n",
       "      <td>0</td>\n",
       "      <td>both</td>\n",
       "      <td>...</td>\n",
       "      <td>Female</td>\n",
       "      <td>Alabama</td>\n",
       "      <td>31</td>\n",
       "      <td>2/17/2019</td>\n",
       "      <td>3</td>\n",
       "      <td>married</td>\n",
       "      <td>40423</td>\n",
       "      <td>both</td>\n",
       "      <td>Region 3</td>\n",
       "      <td>NaN</td>\n",
       "    </tr>\n",
       "  </tbody>\n",
       "</table>\n",
       "<p>5 rows × 35 columns</p>\n",
       "</div>"
      ],
      "text/plain": [
       "   order_id  user_id  order_number  orders_day_of_week  order_hour_of_day  \\\n",
       "0   2539329        1             1                   2                  8   \n",
       "1   2539329        1             1                   2                  8   \n",
       "2   2539329        1             1                   2                  8   \n",
       "3   2539329        1             1                   2                  8   \n",
       "4   2539329        1             1                   2                  8   \n",
       "\n",
       "   days_since_prior_order  product_id  add_to_cart_order  reordered _merge  \\\n",
       "0                     NaN         196                  1          0   both   \n",
       "1                     NaN       14084                  2          0   both   \n",
       "2                     NaN       12427                  3          0   both   \n",
       "3                     NaN       26088                  4          0   both   \n",
       "4                     NaN       26405                  5          0   both   \n",
       "\n",
       "   ...  gender    state  age  date_joined dependants family_status income  \\\n",
       "0  ...  Female  Alabama   31    2/17/2019          3       married  40423   \n",
       "1  ...  Female  Alabama   31    2/17/2019          3       married  40423   \n",
       "2  ...  Female  Alabama   31    2/17/2019          3       married  40423   \n",
       "3  ...  Female  Alabama   31    2/17/2019          3       married  40423   \n",
       "4  ...  Female  Alabama   31    2/17/2019          3       married  40423   \n",
       "\n",
       "   True    region  exclude_label_loc  \n",
       "0  both  Region 3                NaN  \n",
       "1  both  Region 3                NaN  \n",
       "2  both  Region 3                NaN  \n",
       "3  both  Region 3                NaN  \n",
       "4  both  Region 3                NaN  \n",
       "\n",
       "[5 rows x 35 columns]"
      ]
     },
     "execution_count": 64,
     "metadata": {},
     "output_type": "execute_result"
    }
   ],
   "source": [
    "df.head(5)"
   ]
  },
  {
   "cell_type": "code",
   "execution_count": 65,
   "id": "739d231e-849b-4419-850a-34d198f97b7c",
   "metadata": {},
   "outputs": [
    {
     "data": {
      "text/plain": [
       "Index(['order_id', 'user_id', 'order_number', 'orders_day_of_week',\n",
       "       'order_hour_of_day', 'days_since_prior_order', 'product_id',\n",
       "       'add_to_cart_order', 'reordered', '_merge', 'product_name', 'aisle_id',\n",
       "       'department_id', 'prices', 'source', 'price_range_loc', 'busiest_day',\n",
       "       'busiest_days_breakdown', 'busiest_period_of_day', 'max_order',\n",
       "       'loyalty_flag', 'average_spend_price', 'spender_type',\n",
       "       'average_days_since_last_order', 'order_frequency_flag', 'gender',\n",
       "       'state', 'age', 'date_joined', 'dependants', 'family_status', 'income',\n",
       "       'True', 'region', 'exclude_label_loc'],\n",
       "      dtype='object')"
      ]
     },
     "execution_count": 65,
     "metadata": {},
     "output_type": "execute_result"
    }
   ],
   "source": [
    "df.columns"
   ]
  },
  {
   "cell_type": "code",
   "execution_count": 66,
   "id": "b0c4dc68-32b7-46ae-a974-766acd628445",
   "metadata": {},
   "outputs": [],
   "source": [
    "# Importing department file\n",
    "\n",
    "df_dep = pd.read_csv(r'C:\\Users\\Rebecca\\Instacart Basket Analysis\\02 Data\\Original Data\\departments.csv', index_col = False)"
   ]
  },
  {
   "cell_type": "code",
   "execution_count": 67,
   "id": "f29c6289-90c2-4ef5-a678-903892f551b7",
   "metadata": {},
   "outputs": [
    {
     "data": {
      "text/html": [
       "<div>\n",
       "<style scoped>\n",
       "    .dataframe tbody tr th:only-of-type {\n",
       "        vertical-align: middle;\n",
       "    }\n",
       "\n",
       "    .dataframe tbody tr th {\n",
       "        vertical-align: top;\n",
       "    }\n",
       "\n",
       "    .dataframe thead th {\n",
       "        text-align: right;\n",
       "    }\n",
       "</style>\n",
       "<table border=\"1\" class=\"dataframe\">\n",
       "  <thead>\n",
       "    <tr style=\"text-align: right;\">\n",
       "      <th></th>\n",
       "      <th>department_id</th>\n",
       "      <th>1</th>\n",
       "      <th>2</th>\n",
       "      <th>3</th>\n",
       "      <th>4</th>\n",
       "      <th>5</th>\n",
       "      <th>6</th>\n",
       "      <th>7</th>\n",
       "      <th>8</th>\n",
       "      <th>9</th>\n",
       "      <th>...</th>\n",
       "      <th>12</th>\n",
       "      <th>13</th>\n",
       "      <th>14</th>\n",
       "      <th>15</th>\n",
       "      <th>16</th>\n",
       "      <th>17</th>\n",
       "      <th>18</th>\n",
       "      <th>19</th>\n",
       "      <th>20</th>\n",
       "      <th>21</th>\n",
       "    </tr>\n",
       "  </thead>\n",
       "  <tbody>\n",
       "    <tr>\n",
       "      <th>0</th>\n",
       "      <td>department</td>\n",
       "      <td>frozen</td>\n",
       "      <td>other</td>\n",
       "      <td>bakery</td>\n",
       "      <td>produce</td>\n",
       "      <td>alcohol</td>\n",
       "      <td>international</td>\n",
       "      <td>beverages</td>\n",
       "      <td>pets</td>\n",
       "      <td>dry goods pasta</td>\n",
       "      <td>...</td>\n",
       "      <td>meat seafood</td>\n",
       "      <td>pantry</td>\n",
       "      <td>breakfast</td>\n",
       "      <td>canned goods</td>\n",
       "      <td>dairy eggs</td>\n",
       "      <td>household</td>\n",
       "      <td>babies</td>\n",
       "      <td>snacks</td>\n",
       "      <td>deli</td>\n",
       "      <td>missing</td>\n",
       "    </tr>\n",
       "  </tbody>\n",
       "</table>\n",
       "<p>1 rows × 22 columns</p>\n",
       "</div>"
      ],
      "text/plain": [
       "  department_id       1      2       3        4        5              6  \\\n",
       "0    department  frozen  other  bakery  produce  alcohol  international   \n",
       "\n",
       "           7     8                9  ...            12      13         14  \\\n",
       "0  beverages  pets  dry goods pasta  ...  meat seafood  pantry  breakfast   \n",
       "\n",
       "             15          16         17      18      19    20       21  \n",
       "0  canned goods  dairy eggs  household  babies  snacks  deli  missing  \n",
       "\n",
       "[1 rows x 22 columns]"
      ]
     },
     "execution_count": 67,
     "metadata": {},
     "output_type": "execute_result"
    }
   ],
   "source": [
    "df_dep.head()"
   ]
  },
  {
   "cell_type": "code",
   "execution_count": 68,
   "id": "e8c65f55-5cc3-4e94-a982-de3642ad9ad3",
   "metadata": {},
   "outputs": [
    {
     "data": {
      "text/html": [
       "<div>\n",
       "<style scoped>\n",
       "    .dataframe tbody tr th:only-of-type {\n",
       "        vertical-align: middle;\n",
       "    }\n",
       "\n",
       "    .dataframe tbody tr th {\n",
       "        vertical-align: top;\n",
       "    }\n",
       "\n",
       "    .dataframe thead th {\n",
       "        text-align: right;\n",
       "    }\n",
       "</style>\n",
       "<table border=\"1\" class=\"dataframe\">\n",
       "  <thead>\n",
       "    <tr style=\"text-align: right;\">\n",
       "      <th></th>\n",
       "      <th>0</th>\n",
       "    </tr>\n",
       "  </thead>\n",
       "  <tbody>\n",
       "    <tr>\n",
       "      <th>department_id</th>\n",
       "      <td>department</td>\n",
       "    </tr>\n",
       "    <tr>\n",
       "      <th>1</th>\n",
       "      <td>frozen</td>\n",
       "    </tr>\n",
       "    <tr>\n",
       "      <th>2</th>\n",
       "      <td>other</td>\n",
       "    </tr>\n",
       "    <tr>\n",
       "      <th>3</th>\n",
       "      <td>bakery</td>\n",
       "    </tr>\n",
       "    <tr>\n",
       "      <th>4</th>\n",
       "      <td>produce</td>\n",
       "    </tr>\n",
       "    <tr>\n",
       "      <th>5</th>\n",
       "      <td>alcohol</td>\n",
       "    </tr>\n",
       "    <tr>\n",
       "      <th>6</th>\n",
       "      <td>international</td>\n",
       "    </tr>\n",
       "    <tr>\n",
       "      <th>7</th>\n",
       "      <td>beverages</td>\n",
       "    </tr>\n",
       "    <tr>\n",
       "      <th>8</th>\n",
       "      <td>pets</td>\n",
       "    </tr>\n",
       "    <tr>\n",
       "      <th>9</th>\n",
       "      <td>dry goods pasta</td>\n",
       "    </tr>\n",
       "    <tr>\n",
       "      <th>10</th>\n",
       "      <td>bulk</td>\n",
       "    </tr>\n",
       "    <tr>\n",
       "      <th>11</th>\n",
       "      <td>personal care</td>\n",
       "    </tr>\n",
       "    <tr>\n",
       "      <th>12</th>\n",
       "      <td>meat seafood</td>\n",
       "    </tr>\n",
       "    <tr>\n",
       "      <th>13</th>\n",
       "      <td>pantry</td>\n",
       "    </tr>\n",
       "    <tr>\n",
       "      <th>14</th>\n",
       "      <td>breakfast</td>\n",
       "    </tr>\n",
       "    <tr>\n",
       "      <th>15</th>\n",
       "      <td>canned goods</td>\n",
       "    </tr>\n",
       "    <tr>\n",
       "      <th>16</th>\n",
       "      <td>dairy eggs</td>\n",
       "    </tr>\n",
       "    <tr>\n",
       "      <th>17</th>\n",
       "      <td>household</td>\n",
       "    </tr>\n",
       "    <tr>\n",
       "      <th>18</th>\n",
       "      <td>babies</td>\n",
       "    </tr>\n",
       "    <tr>\n",
       "      <th>19</th>\n",
       "      <td>snacks</td>\n",
       "    </tr>\n",
       "    <tr>\n",
       "      <th>20</th>\n",
       "      <td>deli</td>\n",
       "    </tr>\n",
       "    <tr>\n",
       "      <th>21</th>\n",
       "      <td>missing</td>\n",
       "    </tr>\n",
       "  </tbody>\n",
       "</table>\n",
       "</div>"
      ],
      "text/plain": [
       "                             0\n",
       "department_id       department\n",
       "1                       frozen\n",
       "2                        other\n",
       "3                       bakery\n",
       "4                      produce\n",
       "5                      alcohol\n",
       "6                international\n",
       "7                    beverages\n",
       "8                         pets\n",
       "9              dry goods pasta\n",
       "10                        bulk\n",
       "11               personal care\n",
       "12                meat seafood\n",
       "13                      pantry\n",
       "14                   breakfast\n",
       "15                canned goods\n",
       "16                  dairy eggs\n",
       "17                   household\n",
       "18                      babies\n",
       "19                      snacks\n",
       "20                        deli\n",
       "21                     missing"
      ]
     },
     "execution_count": 68,
     "metadata": {},
     "output_type": "execute_result"
    }
   ],
   "source": [
    "# Transposing df_dep\n",
    "\n",
    "df_dep.T"
   ]
  },
  {
   "cell_type": "code",
   "execution_count": 104,
   "id": "4a489f3c-0f23-4c35-81fb-617fa8d7caf9",
   "metadata": {},
   "outputs": [],
   "source": [
    "# Define a function for different customer types\n",
    "\n",
    "def customer_type(row):\n",
    "\n",
    "  if (row['age'] >= 20) and (row['dependants'] == 0) and (row['income'] < 100000):\n",
    "    return 'Single Adult'\n",
    "  elif (row['age'] >= 20) and (row['department_id'] == 8):\n",
    "    return 'Pet Shopper'\n",
    "  elif (row['orders_day_of_week'] == 0) or (row['orders_day_of_week'] == 6):\n",
    "    return 'Weekend Shopper'\n",
    "  elif (row['order_hour_of_day'] >= 6) and (row['order_hour_of_day'] <= 11):\n",
    "    return 'Morning Shopper'\n",
    "  else: return 'Other Shopper'"
   ]
  },
  {
   "cell_type": "code",
   "execution_count": 105,
   "id": "e49241d0-48ae-4c66-9392-d326f7777452",
   "metadata": {},
   "outputs": [
    {
     "name": "stderr",
     "output_type": "stream",
     "text": [
      "C:\\Users\\Rebecca\\AppData\\Local\\Temp\\ipykernel_28344\\4204533260.py:3: SettingWithCopyWarning: \n",
      "A value is trying to be set on a copy of a slice from a DataFrame.\n",
      "Try using .loc[row_indexer,col_indexer] = value instead\n",
      "\n",
      "See the caveats in the documentation: https://pandas.pydata.org/pandas-docs/stable/user_guide/indexing.html#returning-a-view-versus-a-copy\n",
      "  df['shopper_type'] = df.apply(customer_type, axis=1)\n"
     ]
    }
   ],
   "source": [
    "# Applying the function\n",
    "\n",
    "df['shopper_type'] = df.apply(customer_type, axis=1)"
   ]
  },
  {
   "cell_type": "code",
   "execution_count": 106,
   "id": "6ff6e528-34d0-4ffc-b765-f1a569944434",
   "metadata": {},
   "outputs": [
    {
     "data": {
      "text/plain": [
       "shopper_type\n",
       "Other Shopper      383047\n",
       "Weekend Shopper    288684\n",
       "Morning Shopper    208185\n",
       "Single Adult       117010\n",
       "Pet Shopper          3074\n",
       "Name: count, dtype: int64"
      ]
     },
     "execution_count": 106,
     "metadata": {},
     "output_type": "execute_result"
    }
   ],
   "source": [
    "# Verifying counts\n",
    "\n",
    "df['shopper_type'].value_counts(dropna = False)"
   ]
  },
  {
   "cell_type": "markdown",
   "id": "cf2d4155-1cc8-483a-9cbc-167c03ba5f2f",
   "metadata": {},
   "source": [
    "#### - Question 6: Show distribution of profiles"
   ]
  },
  {
   "cell_type": "code",
   "execution_count": 107,
   "id": "29436cdc-aeb6-40f2-9edb-707f46ea3712",
   "metadata": {},
   "outputs": [
    {
     "data": {
      "image/png": "[encoded data removed]",
      "text/plain": [
       "<Figure size 640x480 with 1 Axes>"
      ]
     },
     "metadata": {},
     "output_type": "display_data"
    }
   ],
   "source": [
    "# Creating bar chart\n",
    "\n",
    "bar2 = df['shopper_type'].value_counts().plot.bar(color=['green','orange', 'pink', 'purple', 'blue'])"
   ]
  },
  {
   "cell_type": "code",
   "execution_count": 108,
   "id": "82ea9b47-7413-4fb1-b59e-8cd1879cfb11",
   "metadata": {},
   "outputs": [],
   "source": [
    "# Exporting bar chart\n",
    "\n",
    "bar2.figure.savefig(os.path.join(path, '04 Analysis','Visualizations', 'bar_shopper_type.png'))"
   ]
  },
  {
   "cell_type": "markdown",
   "id": "4f991bea-6683-4bb4-8620-b252c61fee6f",
   "metadata": {},
   "source": [
    "#### - Question 7: Max, Mean, and Min variables"
   ]
  },
  {
   "cell_type": "code",
   "execution_count": 109,
   "id": "f33f3025-8d0c-46e0-b999-8ede6f8ed03b",
   "metadata": {},
   "outputs": [
    {
     "data": {
      "text/html": [
       "<div>\n",
       "<style scoped>\n",
       "    .dataframe tbody tr th:only-of-type {\n",
       "        vertical-align: middle;\n",
       "    }\n",
       "\n",
       "    .dataframe tbody tr th {\n",
       "        vertical-align: top;\n",
       "    }\n",
       "\n",
       "    .dataframe thead tr th {\n",
       "        text-align: left;\n",
       "    }\n",
       "\n",
       "    .dataframe thead tr:last-of-type th {\n",
       "        text-align: right;\n",
       "    }\n",
       "</style>\n",
       "<table border=\"1\" class=\"dataframe\">\n",
       "  <thead>\n",
       "    <tr>\n",
       "      <th></th>\n",
       "      <th colspan=\"3\" halign=\"left\">days_since_prior_order</th>\n",
       "    </tr>\n",
       "    <tr>\n",
       "      <th></th>\n",
       "      <th>mean</th>\n",
       "      <th>min</th>\n",
       "      <th>max</th>\n",
       "    </tr>\n",
       "    <tr>\n",
       "      <th>shopper_type</th>\n",
       "      <th></th>\n",
       "      <th></th>\n",
       "      <th></th>\n",
       "    </tr>\n",
       "  </thead>\n",
       "  <tbody>\n",
       "    <tr>\n",
       "      <th>Morning Shopper</th>\n",
       "      <td>10.242305</td>\n",
       "      <td>0.0</td>\n",
       "      <td>30.0</td>\n",
       "    </tr>\n",
       "    <tr>\n",
       "      <th>Other Shopper</th>\n",
       "      <td>10.658407</td>\n",
       "      <td>0.0</td>\n",
       "      <td>30.0</td>\n",
       "    </tr>\n",
       "    <tr>\n",
       "      <th>Pet Shopper</th>\n",
       "      <td>10.917715</td>\n",
       "      <td>0.0</td>\n",
       "      <td>30.0</td>\n",
       "    </tr>\n",
       "    <tr>\n",
       "      <th>Single Adult</th>\n",
       "      <td>10.967281</td>\n",
       "      <td>0.0</td>\n",
       "      <td>30.0</td>\n",
       "    </tr>\n",
       "    <tr>\n",
       "      <th>Weekend Shopper</th>\n",
       "      <td>11.228407</td>\n",
       "      <td>0.0</td>\n",
       "      <td>30.0</td>\n",
       "    </tr>\n",
       "  </tbody>\n",
       "</table>\n",
       "</div>"
      ],
      "text/plain": [
       "                days_since_prior_order           \n",
       "                                  mean  min   max\n",
       "shopper_type                                     \n",
       "Morning Shopper              10.242305  0.0  30.0\n",
       "Other Shopper                10.658407  0.0  30.0\n",
       "Pet Shopper                  10.917715  0.0  30.0\n",
       "Single Adult                 10.967281  0.0  30.0\n",
       "Weekend Shopper              11.228407  0.0  30.0"
      ]
     },
     "execution_count": 109,
     "metadata": {},
     "output_type": "execute_result"
    }
   ],
   "source": [
    "# Runnig max, mean, and min on frequency\n",
    "\n",
    "df.groupby('shopper_type').agg({'days_since_prior_order': ['mean', 'min', 'max']})"
   ]
  },
  {
   "cell_type": "code",
   "execution_count": 110,
   "id": "3617fab9-66ee-4c0c-a3ce-778da0ebb153",
   "metadata": {},
   "outputs": [
    {
     "data": {
      "text/html": [
       "<div>\n",
       "<style scoped>\n",
       "    .dataframe tbody tr th:only-of-type {\n",
       "        vertical-align: middle;\n",
       "    }\n",
       "\n",
       "    .dataframe tbody tr th {\n",
       "        vertical-align: top;\n",
       "    }\n",
       "\n",
       "    .dataframe thead tr th {\n",
       "        text-align: left;\n",
       "    }\n",
       "\n",
       "    .dataframe thead tr:last-of-type th {\n",
       "        text-align: right;\n",
       "    }\n",
       "</style>\n",
       "<table border=\"1\" class=\"dataframe\">\n",
       "  <thead>\n",
       "    <tr>\n",
       "      <th></th>\n",
       "      <th colspan=\"3\" halign=\"left\">max_order</th>\n",
       "    </tr>\n",
       "    <tr>\n",
       "      <th></th>\n",
       "      <th>mean</th>\n",
       "      <th>min</th>\n",
       "      <th>max</th>\n",
       "    </tr>\n",
       "    <tr>\n",
       "      <th>shopper_type</th>\n",
       "      <th></th>\n",
       "      <th></th>\n",
       "      <th></th>\n",
       "    </tr>\n",
       "  </thead>\n",
       "  <tbody>\n",
       "    <tr>\n",
       "      <th>Morning Shopper</th>\n",
       "      <td>39.569594</td>\n",
       "      <td>5</td>\n",
       "      <td>99</td>\n",
       "    </tr>\n",
       "    <tr>\n",
       "      <th>Other Shopper</th>\n",
       "      <td>34.595060</td>\n",
       "      <td>5</td>\n",
       "      <td>99</td>\n",
       "    </tr>\n",
       "    <tr>\n",
       "      <th>Pet Shopper</th>\n",
       "      <td>35.283019</td>\n",
       "      <td>5</td>\n",
       "      <td>99</td>\n",
       "    </tr>\n",
       "    <tr>\n",
       "      <th>Single Adult</th>\n",
       "      <td>34.619973</td>\n",
       "      <td>5</td>\n",
       "      <td>99</td>\n",
       "    </tr>\n",
       "    <tr>\n",
       "      <th>Weekend Shopper</th>\n",
       "      <td>32.161623</td>\n",
       "      <td>5</td>\n",
       "      <td>99</td>\n",
       "    </tr>\n",
       "  </tbody>\n",
       "</table>\n",
       "</div>"
      ],
      "text/plain": [
       "                 max_order        \n",
       "                      mean min max\n",
       "shopper_type                      \n",
       "Morning Shopper  39.569594   5  99\n",
       "Other Shopper    34.595060   5  99\n",
       "Pet Shopper      35.283019   5  99\n",
       "Single Adult     34.619973   5  99\n",
       "Weekend Shopper  32.161623   5  99"
      ]
     },
     "execution_count": 110,
     "metadata": {},
     "output_type": "execute_result"
    }
   ],
   "source": [
    "# Runnig max, mean, and min on expenditure\n",
    "\n",
    "df.groupby('shopper_type').agg({'max_order': ['mean', 'min', 'max']})"
   ]
  },
  {
   "cell_type": "markdown",
   "id": "238c0a46-6755-4172-a466-0f6efdec215d",
   "metadata": {},
   "source": [
    "#### - Question 8: Compare profiles"
   ]
  },
  {
   "cell_type": "code",
   "execution_count": 111,
   "id": "37db50ed-039b-4115-8304-0347f0dc4a88",
   "metadata": {},
   "outputs": [
    {
     "data": {
      "text/html": [
       "<div>\n",
       "<style scoped>\n",
       "    .dataframe tbody tr th:only-of-type {\n",
       "        vertical-align: middle;\n",
       "    }\n",
       "\n",
       "    .dataframe tbody tr th {\n",
       "        vertical-align: top;\n",
       "    }\n",
       "\n",
       "    .dataframe thead th {\n",
       "        text-align: right;\n",
       "    }\n",
       "</style>\n",
       "<table border=\"1\" class=\"dataframe\">\n",
       "  <thead>\n",
       "    <tr style=\"text-align: right;\">\n",
       "      <th>region</th>\n",
       "      <th>Region 1</th>\n",
       "      <th>Region 2</th>\n",
       "      <th>Region 3</th>\n",
       "      <th>Region 4</th>\n",
       "      <th>Undetermined</th>\n",
       "    </tr>\n",
       "    <tr>\n",
       "      <th>shopper_type</th>\n",
       "      <th></th>\n",
       "      <th></th>\n",
       "      <th></th>\n",
       "      <th></th>\n",
       "      <th></th>\n",
       "    </tr>\n",
       "  </thead>\n",
       "  <tbody>\n",
       "    <tr>\n",
       "      <th>Morning Shopper</th>\n",
       "      <td>35379</td>\n",
       "      <td>46070</td>\n",
       "      <td>63051</td>\n",
       "      <td>57983</td>\n",
       "      <td>5702</td>\n",
       "    </tr>\n",
       "    <tr>\n",
       "      <th>Other Shopper</th>\n",
       "      <td>66942</td>\n",
       "      <td>88305</td>\n",
       "      <td>116485</td>\n",
       "      <td>102791</td>\n",
       "      <td>8524</td>\n",
       "    </tr>\n",
       "    <tr>\n",
       "      <th>Pet Shopper</th>\n",
       "      <td>874</td>\n",
       "      <td>896</td>\n",
       "      <td>711</td>\n",
       "      <td>557</td>\n",
       "      <td>36</td>\n",
       "    </tr>\n",
       "    <tr>\n",
       "      <th>Single Adult</th>\n",
       "      <td>24738</td>\n",
       "      <td>29173</td>\n",
       "      <td>33442</td>\n",
       "      <td>28955</td>\n",
       "      <td>702</td>\n",
       "    </tr>\n",
       "    <tr>\n",
       "      <th>Weekend Shopper</th>\n",
       "      <td>52913</td>\n",
       "      <td>64507</td>\n",
       "      <td>89164</td>\n",
       "      <td>75180</td>\n",
       "      <td>6920</td>\n",
       "    </tr>\n",
       "  </tbody>\n",
       "</table>\n",
       "</div>"
      ],
      "text/plain": [
       "region           Region 1  Region 2  Region 3  Region 4  Undetermined\n",
       "shopper_type                                                         \n",
       "Morning Shopper     35379     46070     63051     57983          5702\n",
       "Other Shopper       66942     88305    116485    102791          8524\n",
       "Pet Shopper           874       896       711       557            36\n",
       "Single Adult        24738     29173     33442     28955           702\n",
       "Weekend Shopper     52913     64507     89164     75180          6920"
      ]
     },
     "execution_count": 111,
     "metadata": {},
     "output_type": "execute_result"
    }
   ],
   "source": [
    "# Comparing shoppers and regions\n",
    "\n",
    "df.groupby(['shopper_type', 'region']).size().unstack().fillna(0)"
   ]
  },
  {
   "cell_type": "markdown",
   "id": "eaa07175-bd02-422f-9ff2-4586d5d9aa9d",
   "metadata": {},
   "source": [
    "Review of shoppers and regions (not considering other shopper category or the Undetermined region)"
   ]
  },
  {
   "cell_type": "markdown",
   "id": "ce22da79-054f-4ad3-b0f8-222da19c1d2b",
   "metadata": {},
   "source": [
    "All regions' highest shopper is the weekend shopper (other than the \"Other Shopper\" category, which means additional categories should be created to properly analyze the type of shopper). \n",
    "\n",
    "The largest segment of \"Other Shopper\" is within Region 4.\n",
    "\n",
    "Shoppers only shopping for pet products have the lowest quantity and most pet shoppers are in Region 2."
   ]
  },
  {
   "cell_type": "code",
   "execution_count": 114,
   "id": "36eb2a26-1d92-4ac3-b816-77a72ed4abe7",
   "metadata": {},
   "outputs": [
    {
     "data": {
      "text/html": [
       "<div>\n",
       "<style scoped>\n",
       "    .dataframe tbody tr th:only-of-type {\n",
       "        vertical-align: middle;\n",
       "    }\n",
       "\n",
       "    .dataframe tbody tr th {\n",
       "        vertical-align: top;\n",
       "    }\n",
       "\n",
       "    .dataframe thead th {\n",
       "        text-align: right;\n",
       "    }\n",
       "</style>\n",
       "<table border=\"1\" class=\"dataframe\">\n",
       "  <thead>\n",
       "    <tr style=\"text-align: right;\">\n",
       "      <th>shopper_type</th>\n",
       "      <th>Morning Shopper</th>\n",
       "      <th>Other Shopper</th>\n",
       "      <th>Pet Shopper</th>\n",
       "      <th>Single Adult</th>\n",
       "      <th>Weekend Shopper</th>\n",
       "    </tr>\n",
       "    <tr>\n",
       "      <th>department_id</th>\n",
       "      <th></th>\n",
       "      <th></th>\n",
       "      <th></th>\n",
       "      <th></th>\n",
       "      <th></th>\n",
       "    </tr>\n",
       "  </thead>\n",
       "  <tbody>\n",
       "    <tr>\n",
       "      <th>1</th>\n",
       "      <td>12051.0</td>\n",
       "      <td>26997.0</td>\n",
       "      <td>0.0</td>\n",
       "      <td>7540.0</td>\n",
       "      <td>20920.0</td>\n",
       "    </tr>\n",
       "    <tr>\n",
       "      <th>2</th>\n",
       "      <td>219.0</td>\n",
       "      <td>422.0</td>\n",
       "      <td>0.0</td>\n",
       "      <td>132.0</td>\n",
       "      <td>319.0</td>\n",
       "    </tr>\n",
       "    <tr>\n",
       "      <th>3</th>\n",
       "      <td>8108.0</td>\n",
       "      <td>14060.0</td>\n",
       "      <td>0.0</td>\n",
       "      <td>4491.0</td>\n",
       "      <td>10331.0</td>\n",
       "    </tr>\n",
       "    <tr>\n",
       "      <th>4</th>\n",
       "      <td>58224.0</td>\n",
       "      <td>109746.0</td>\n",
       "      <td>0.0</td>\n",
       "      <td>32161.0</td>\n",
       "      <td>87449.0</td>\n",
       "    </tr>\n",
       "    <tr>\n",
       "      <th>5</th>\n",
       "      <td>1072.0</td>\n",
       "      <td>2153.0</td>\n",
       "      <td>0.0</td>\n",
       "      <td>515.0</td>\n",
       "      <td>853.0</td>\n",
       "    </tr>\n",
       "    <tr>\n",
       "      <th>6</th>\n",
       "      <td>1522.0</td>\n",
       "      <td>3114.0</td>\n",
       "      <td>0.0</td>\n",
       "      <td>930.0</td>\n",
       "      <td>2604.0</td>\n",
       "    </tr>\n",
       "    <tr>\n",
       "      <th>7</th>\n",
       "      <td>19085.0</td>\n",
       "      <td>33302.0</td>\n",
       "      <td>0.0</td>\n",
       "      <td>10869.0</td>\n",
       "      <td>21724.0</td>\n",
       "    </tr>\n",
       "    <tr>\n",
       "      <th>8</th>\n",
       "      <td>10.0</td>\n",
       "      <td>23.0</td>\n",
       "      <td>3074.0</td>\n",
       "      <td>339.0</td>\n",
       "      <td>25.0</td>\n",
       "    </tr>\n",
       "    <tr>\n",
       "      <th>9</th>\n",
       "      <td>4717.0</td>\n",
       "      <td>9784.0</td>\n",
       "      <td>0.0</td>\n",
       "      <td>3044.0</td>\n",
       "      <td>8126.0</td>\n",
       "    </tr>\n",
       "    <tr>\n",
       "      <th>10</th>\n",
       "      <td>258.0</td>\n",
       "      <td>440.0</td>\n",
       "      <td>0.0</td>\n",
       "      <td>114.0</td>\n",
       "      <td>272.0</td>\n",
       "    </tr>\n",
       "    <tr>\n",
       "      <th>11</th>\n",
       "      <td>2832.0</td>\n",
       "      <td>5505.0</td>\n",
       "      <td>0.0</td>\n",
       "      <td>1657.0</td>\n",
       "      <td>4056.0</td>\n",
       "    </tr>\n",
       "    <tr>\n",
       "      <th>12</th>\n",
       "      <td>3863.0</td>\n",
       "      <td>8147.0</td>\n",
       "      <td>0.0</td>\n",
       "      <td>2305.0</td>\n",
       "      <td>7044.0</td>\n",
       "    </tr>\n",
       "    <tr>\n",
       "      <th>13</th>\n",
       "      <td>11143.0</td>\n",
       "      <td>21846.0</td>\n",
       "      <td>0.0</td>\n",
       "      <td>7198.0</td>\n",
       "      <td>16922.0</td>\n",
       "    </tr>\n",
       "    <tr>\n",
       "      <th>14</th>\n",
       "      <td>5335.0</td>\n",
       "      <td>8348.0</td>\n",
       "      <td>0.0</td>\n",
       "      <td>2629.0</td>\n",
       "      <td>5954.0</td>\n",
       "    </tr>\n",
       "    <tr>\n",
       "      <th>15</th>\n",
       "      <td>5700.0</td>\n",
       "      <td>11522.0</td>\n",
       "      <td>0.0</td>\n",
       "      <td>3564.0</td>\n",
       "      <td>10282.0</td>\n",
       "    </tr>\n",
       "    <tr>\n",
       "      <th>16</th>\n",
       "      <td>37661.0</td>\n",
       "      <td>63664.0</td>\n",
       "      <td>0.0</td>\n",
       "      <td>18896.0</td>\n",
       "      <td>47595.0</td>\n",
       "    </tr>\n",
       "    <tr>\n",
       "      <th>17</th>\n",
       "      <td>5295.0</td>\n",
       "      <td>9049.0</td>\n",
       "      <td>0.0</td>\n",
       "      <td>2913.0</td>\n",
       "      <td>6771.0</td>\n",
       "    </tr>\n",
       "    <tr>\n",
       "      <th>18</th>\n",
       "      <td>2563.0</td>\n",
       "      <td>4523.0</td>\n",
       "      <td>0.0</td>\n",
       "      <td>2029.0</td>\n",
       "      <td>3276.0</td>\n",
       "    </tr>\n",
       "    <tr>\n",
       "      <th>19</th>\n",
       "      <td>21031.0</td>\n",
       "      <td>36752.0</td>\n",
       "      <td>0.0</td>\n",
       "      <td>11695.0</td>\n",
       "      <td>23850.0</td>\n",
       "    </tr>\n",
       "    <tr>\n",
       "      <th>20</th>\n",
       "      <td>7047.0</td>\n",
       "      <td>12869.0</td>\n",
       "      <td>0.0</td>\n",
       "      <td>3635.0</td>\n",
       "      <td>9692.0</td>\n",
       "    </tr>\n",
       "    <tr>\n",
       "      <th>21</th>\n",
       "      <td>449.0</td>\n",
       "      <td>781.0</td>\n",
       "      <td>0.0</td>\n",
       "      <td>354.0</td>\n",
       "      <td>619.0</td>\n",
       "    </tr>\n",
       "  </tbody>\n",
       "</table>\n",
       "</div>"
      ],
      "text/plain": [
       "shopper_type   Morning Shopper  Other Shopper  Pet Shopper  Single Adult  \\\n",
       "department_id                                                              \n",
       "1                      12051.0        26997.0          0.0        7540.0   \n",
       "2                        219.0          422.0          0.0         132.0   \n",
       "3                       8108.0        14060.0          0.0        4491.0   \n",
       "4                      58224.0       109746.0          0.0       32161.0   \n",
       "5                       1072.0         2153.0          0.0         515.0   \n",
       "6                       1522.0         3114.0          0.0         930.0   \n",
       "7                      19085.0        33302.0          0.0       10869.0   \n",
       "8                         10.0           23.0       3074.0         339.0   \n",
       "9                       4717.0         9784.0          0.0        3044.0   \n",
       "10                       258.0          440.0          0.0         114.0   \n",
       "11                      2832.0         5505.0          0.0        1657.0   \n",
       "12                      3863.0         8147.0          0.0        2305.0   \n",
       "13                     11143.0        21846.0          0.0        7198.0   \n",
       "14                      5335.0         8348.0          0.0        2629.0   \n",
       "15                      5700.0        11522.0          0.0        3564.0   \n",
       "16                     37661.0        63664.0          0.0       18896.0   \n",
       "17                      5295.0         9049.0          0.0        2913.0   \n",
       "18                      2563.0         4523.0          0.0        2029.0   \n",
       "19                     21031.0        36752.0          0.0       11695.0   \n",
       "20                      7047.0        12869.0          0.0        3635.0   \n",
       "21                       449.0          781.0          0.0         354.0   \n",
       "\n",
       "shopper_type   Weekend Shopper  \n",
       "department_id                   \n",
       "1                      20920.0  \n",
       "2                        319.0  \n",
       "3                      10331.0  \n",
       "4                      87449.0  \n",
       "5                        853.0  \n",
       "6                       2604.0  \n",
       "7                      21724.0  \n",
       "8                         25.0  \n",
       "9                       8126.0  \n",
       "10                       272.0  \n",
       "11                      4056.0  \n",
       "12                      7044.0  \n",
       "13                     16922.0  \n",
       "14                      5954.0  \n",
       "15                     10282.0  \n",
       "16                     47595.0  \n",
       "17                      6771.0  \n",
       "18                      3276.0  \n",
       "19                     23850.0  \n",
       "20                      9692.0  \n",
       "21                       619.0  "
      ]
     },
     "execution_count": 114,
     "metadata": {},
     "output_type": "execute_result"
    }
   ],
   "source": [
    "# Comparing shoppers and departments\n",
    "\n",
    "df.groupby(['department_id', 'shopper_type']).size().unstack().fillna(0)"
   ]
  },
  {
   "cell_type": "markdown",
   "id": "184b624c-36e9-4a3e-84cc-c37bf6194d37",
   "metadata": {},
   "source": [
    "Review of shoppers and department_id (not considering other shopper category)\n",
    "\n",
    "All shoppers pick up the most products from department_id 4, which is produce. \n",
    "\n",
    "The \"Morning Shopper\" and the \"Single Adult\" Shopper both have the same high department_ids: 16 (dairy eggs), 7 (beverages), 19 (snacks).\n",
    "\n",
    "The \"Weekend Shopper's\" most purchased products come from department_ids: 1 (frozen), 7 (beverages), and 19 (snacks)."
   ]
  },
  {
   "cell_type": "markdown",
   "id": "f0003073-2f1c-4073-ac0b-7d1e4113f343",
   "metadata": {},
   "source": [
    "#### - Question 9: Visualizations"
   ]
  },
  {
   "cell_type": "code",
   "execution_count": 126,
   "id": "2ff65579-7fc7-4566-945b-fab69843587c",
   "metadata": {},
   "outputs": [
    {
     "data": {
      "image/png": "[encoded data removed]",
      "text/plain": [
       "<Figure size 640x480 with 1 Axes>"
      ]
     },
     "metadata": {},
     "output_type": "display_data"
    }
   ],
   "source": [
    "# Creating bar chart for shoppers and departments\n",
    "\n",
    "bar3 = df.groupby('shopper_type')['department_id'].count().plot.bar(color=['orange','green', 'blue', 'purple', 'red'])"
   ]
  },
  {
   "cell_type": "code",
   "execution_count": 127,
   "id": "4d0ab3ef-086a-4c5c-ad53-01b033177ccb",
   "metadata": {},
   "outputs": [],
   "source": [
    "# Exporting bar chart\n",
    "\n",
    "bar3.figure.savefig(os.path.join(path, '04 Analysis','Visualizations', 'bar_shopper_department.png'))"
   ]
  },
  {
   "cell_type": "code",
   "execution_count": 130,
   "id": "f3edd4d4-0884-47e0-9052-09083c91b304",
   "metadata": {},
   "outputs": [
    {
     "data": {
      "image/png": "[encoded data removed]",
      "text/plain": [
       "<Figure size 640x480 with 1 Axes>"
      ]
     },
     "metadata": {},
     "output_type": "display_data"
    }
   ],
   "source": [
    "# Creating histogram to show frequency of department id\n",
    "\n",
    "hist = df['department_id'].plot.hist(bins=25)"
   ]
  },
  {
   "cell_type": "code",
   "execution_count": 131,
   "id": "b8d87857-344b-476e-aa5e-3e2693dee94c",
   "metadata": {},
   "outputs": [],
   "source": [
    "# Exporting histogram\n",
    "\n",
    "hist.figure.savefig(os.path.join(path, '04 Analysis','Visualizations', 'hist_department_id.png'))"
   ]
  },
  {
   "cell_type": "markdown",
   "id": "36b539b6-f821-4697-a90b-bd36752a7aa5",
   "metadata": {},
   "source": [
    "#### - Exporting final data set"
   ]
  },
  {
   "cell_type": "code",
   "execution_count": 132,
   "id": "c5c68483-cf74-4912-934a-2026e4408e59",
   "metadata": {},
   "outputs": [
    {
     "data": {
      "text/plain": [
       "Index(['order_id', 'user_id', 'order_number', 'orders_day_of_week',\n",
       "       'order_hour_of_day', 'days_since_prior_order', 'product_id',\n",
       "       'add_to_cart_order', 'reordered', '_merge', 'product_name', 'aisle_id',\n",
       "       'department_id', 'prices', 'source', 'price_range_loc', 'busiest_day',\n",
       "       'busiest_days_breakdown', 'busiest_period_of_day', 'max_order',\n",
       "       'loyalty_flag', 'average_spend_price', 'spender_type',\n",
       "       'average_days_since_last_order', 'order_frequency_flag', 'gender',\n",
       "       'state', 'age', 'date_joined', 'dependants', 'family_status', 'income',\n",
       "       'True', 'region', 'exclude_label_loc'],\n",
       "      dtype='object')"
      ]
     },
     "execution_count": 132,
     "metadata": {},
     "output_type": "execute_result"
    }
   ],
   "source": [
    "ords_prods_cust_filtered.columns"
   ]
  },
  {
   "cell_type": "code",
   "execution_count": 133,
   "id": "c2d29725-bb85-4d6f-bd92-02c8380692c6",
   "metadata": {},
   "outputs": [
    {
     "name": "stdout",
     "output_type": "stream",
     "text": [
      "<class 'pandas.core.frame.DataFrame'>\n",
      "Index: 30964564 entries, 0 to 32404858\n",
      "Data columns (total 35 columns):\n",
      " #   Column                         Dtype   \n",
      "---  ------                         -----   \n",
      " 0   order_id                       int32   \n",
      " 1   user_id                        int32   \n",
      " 2   order_number                   int8    \n",
      " 3   orders_day_of_week             int8    \n",
      " 4   order_hour_of_day              int8    \n",
      " 5   days_since_prior_order         float16 \n",
      " 6   product_id                     int32   \n",
      " 7   add_to_cart_order              int32   \n",
      " 8   reordered                      int8    \n",
      " 9   _merge                         category\n",
      " 10  product_name                   object  \n",
      " 11  aisle_id                       int8    \n",
      " 12  department_id                  int8    \n",
      " 13  prices                         float32 \n",
      " 14  source                         category\n",
      " 15  price_range_loc                object  \n",
      " 16  busiest_day                    object  \n",
      " 17  busiest_days_breakdown         object  \n",
      " 18  busiest_period_of_day          object  \n",
      " 19  max_order                      int8    \n",
      " 20  loyalty_flag                   object  \n",
      " 21  average_spend_price            float32 \n",
      " 22  spender_type                   object  \n",
      " 23  average_days_since_last_order  float16 \n",
      " 24  order_frequency_flag           object  \n",
      " 25  gender                         object  \n",
      " 26  state                          object  \n",
      " 27  age                            int32   \n",
      " 28  date_joined                    object  \n",
      " 29  dependants                     int32   \n",
      " 30  family_status                  object  \n",
      " 31  income                         int32   \n",
      " 32  True                           category\n",
      " 33  region                         object  \n",
      " 34  exclude_label_loc              object  \n",
      "dtypes: category(3), float16(2), float32(2), int32(7), int8(7), object(14)\n",
      "memory usage: 4.9+ GB\n"
     ]
    }
   ],
   "source": [
    "ords_prods_cust_filtered.info()"
   ]
  },
  {
   "cell_type": "code",
   "execution_count": 134,
   "id": "80715b43-f284-4f39-9cc1-12ee990c2459",
   "metadata": {},
   "outputs": [],
   "source": [
    "# Exporting data set\n",
    "\n",
    "ords_prods_cust_filtered.to_pickle(os.path.join(path, '02 Data','Prepared Data', 'ords_prods_cust_filtered.pkl'))"
   ]
  },
  {
   "cell_type": "markdown",
   "id": "d6552d47-30b4-4bc7-bae1-0eeaa559e583",
   "metadata": {},
   "source": [
    "## 03. Crosstab Work"
   ]
  },
  {
   "cell_type": "code",
   "execution_count": 5,
   "id": "1b808739-e64c-417f-9618-7dfbbd41dd72",
   "metadata": {},
   "outputs": [
    {
     "name": "stdout",
     "output_type": "stream",
     "text": [
      "<class 'pandas.core.frame.DataFrame'>\n",
      "RangeIndex: 32404859 entries, 0 to 32404858\n",
      "Data columns (total 35 columns):\n",
      " #   Column                         Dtype   \n",
      "---  ------                         -----   \n",
      " 0   order_id                       int32   \n",
      " 1   user_id                        int32   \n",
      " 2   order_number                   int8    \n",
      " 3   orders_day_of_week             int8    \n",
      " 4   order_hour_of_day              int8    \n",
      " 5   days_since_prior_order         float16 \n",
      " 6   product_id                     int32   \n",
      " 7   add_to_cart_order              int32   \n",
      " 8   reordered                      int8    \n",
      " 9   _merge                         category\n",
      " 10  product_name                   object  \n",
      " 11  aisle_id                       int8    \n",
      " 12  department_id                  int8    \n",
      " 13  prices                         float32 \n",
      " 14  source                         category\n",
      " 15  price_range_loc                object  \n",
      " 16  busiest_day                    object  \n",
      " 17  busiest_days_breakdown         object  \n",
      " 18  busiest_period_of_day          object  \n",
      " 19  max_order                      int8    \n",
      " 20  loyalty_flag                   object  \n",
      " 21  average_spend_price            float32 \n",
      " 22  spender_type                   object  \n",
      " 23  average_days_since_last_order  float16 \n",
      " 24  order_frequency_flag           object  \n",
      " 25  first_name                     object  \n",
      " 26  last_name                      object  \n",
      " 27  gender                         object  \n",
      " 28  state                          object  \n",
      " 29  age                            int32   \n",
      " 30  date_joined                    object  \n",
      " 31  dependants                     int32   \n",
      " 32  family_status                  object  \n",
      " 33  income                         int32   \n",
      " 34  True                           category\n",
      "dtypes: category(3), float16(2), float32(2), int32(7), int8(7), object(14)\n",
      "memory usage: 4.9+ GB\n"
     ]
    }
   ],
   "source": [
    "ords_prods_cust_merge.info()"
   ]
  },
  {
   "cell_type": "code",
   "execution_count": 6,
   "id": "c39151cb-ada3-461f-a56b-655222286a5a",
   "metadata": {},
   "outputs": [],
   "source": [
    "# Changing days_since_prior_order from float16 to float32\n",
    "\n",
    "ords_prods_cust_merge['days_since_prior_order']=ords_prods_cust_merge['days_since_prior_order'].astype('float32')"
   ]
  },
  {
   "cell_type": "code",
   "execution_count": 7,
   "id": "1893de17-d9ab-4c5e-b357-6026f5f85bae",
   "metadata": {},
   "outputs": [
    {
     "name": "stdout",
     "output_type": "stream",
     "text": [
      "<class 'pandas.core.frame.DataFrame'>\n",
      "RangeIndex: 32404859 entries, 0 to 32404858\n",
      "Data columns (total 35 columns):\n",
      " #   Column                         Dtype   \n",
      "---  ------                         -----   \n",
      " 0   order_id                       int32   \n",
      " 1   user_id                        int32   \n",
      " 2   order_number                   int8    \n",
      " 3   orders_day_of_week             int8    \n",
      " 4   order_hour_of_day              int8    \n",
      " 5   days_since_prior_order         float32 \n",
      " 6   product_id                     int32   \n",
      " 7   add_to_cart_order              int32   \n",
      " 8   reordered                      int8    \n",
      " 9   _merge                         category\n",
      " 10  product_name                   object  \n",
      " 11  aisle_id                       int8    \n",
      " 12  department_id                  int8    \n",
      " 13  prices                         float32 \n",
      " 14  source                         category\n",
      " 15  price_range_loc                object  \n",
      " 16  busiest_day                    object  \n",
      " 17  busiest_days_breakdown         object  \n",
      " 18  busiest_period_of_day          object  \n",
      " 19  max_order                      int8    \n",
      " 20  loyalty_flag                   object  \n",
      " 21  average_spend_price            float32 \n",
      " 22  spender_type                   object  \n",
      " 23  average_days_since_last_order  float16 \n",
      " 24  order_frequency_flag           object  \n",
      " 25  first_name                     object  \n",
      " 26  last_name                      object  \n",
      " 27  gender                         object  \n",
      " 28  state                          object  \n",
      " 29  age                            int32   \n",
      " 30  date_joined                    object  \n",
      " 31  dependants                     int32   \n",
      " 32  family_status                  object  \n",
      " 33  income                         int32   \n",
      " 34  True                           category\n",
      "dtypes: category(3), float16(1), float32(3), int32(7), int8(7), object(14)\n",
      "memory usage: 4.9+ GB\n"
     ]
    }
   ],
   "source": [
    "# Verifying update\n",
    "\n",
    "ords_prods_cust_merge.info()"
   ]
  },
  {
   "cell_type": "code",
   "execution_count": 8,
   "id": "fe2a03fb-68c5-41f1-bba6-3a0dec869342",
   "metadata": {},
   "outputs": [],
   "source": [
    "# Performing crosstab\n",
    "\n",
    "crosstab = pd.crosstab(ords_prods_cust_merge['days_since_prior_order'], ords_prods_cust_merge['order_number'], dropna = False)"
   ]
  },
  {
   "cell_type": "code",
   "execution_count": 9,
   "id": "0dd30bf9-5722-409f-9800-c40f1f077665",
   "metadata": {},
   "outputs": [],
   "source": [
    "crosstab.to_clipboard()"
   ]
  },
  {
   "cell_type": "code",
   "execution_count": null,
   "id": "01bfe996-5df8-46ea-b4fd-16ffc34c6d8b",
   "metadata": {},
   "outputs": [],
   "source": []
  }
 ],
 "metadata": {
  "kernelspec": {
   "display_name": "Python 3 (ipykernel)",
   "language": "python",
   "name": "python3"
  },
  "language_info": {
   "codemirror_mode": {
    "name": "ipython",
    "version": 3
   },
   "file_extension": ".py",
   "mimetype": "text/x-python",
   "name": "python",
   "nbconvert_exporter": "python",
   "pygments_lexer": "ipython3",
   "version": "3.12.7"
  }
 },
 "nbformat": 4,
 "nbformat_minor": 5
}
