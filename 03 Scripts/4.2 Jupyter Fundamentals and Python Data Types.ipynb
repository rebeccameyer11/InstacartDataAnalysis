{
 "cells": [
  {
   "cell_type": "markdown",
   "id": "bab4fb31-1cb4-473e-b11c-7f3a29b7c3a2",
   "metadata": {},
   "source": [
    "# Exercise 4.2"
   ]
  },
  {
   "cell_type": "markdown",
   "id": "3c38a51d-4fe5-4dfc-8da5-0d50ae766086",
   "metadata": {},
   "source": [
    "## Table of Contents:"
   ]
  },
  {
   "cell_type": "markdown",
   "id": "75e287c8-ea31-46d7-bafd-5c912317d0ec",
   "metadata": {},
   "source": [
    "#### 01. Importing libraries\n",
    "#### 02. Data Types\n",
    "#### 03. 4.2 Task Work"
   ]
  },
  {
   "cell_type": "markdown",
   "id": "3a45d9f9-5809-4245-80d8-070b8bfdd87a",
   "metadata": {},
   "source": [
    "### 01. Importing libraries"
   ]
  },
  {
   "cell_type": "code",
   "execution_count": 2,
   "id": "8e1920b9-7818-4d50-a57c-cd2134f4adb1",
   "metadata": {},
   "outputs": [],
   "source": [
    "# Import libraries\n",
    "import pandas as pd\n",
    "import numpy as np\n",
    "import os"
   ]
  },
  {
   "cell_type": "markdown",
   "id": "6d6551be-6212-4013-9b1f-39ab47c9d5b4",
   "metadata": {},
   "source": [
    "### 02. Data types"
   ]
  },
  {
   "cell_type": "markdown",
   "id": "6fa437d7-03e9-43a8-98c3-a81c80ea5fbd",
   "metadata": {},
   "source": [
    " - Exercise Follow Along"
   ]
  },
  {
   "cell_type": "code",
   "execution_count": 3,
   "id": "058d783e-45b6-403b-98f5-b669b6938caf",
   "metadata": {},
   "outputs": [],
   "source": [
    "x = 2"
   ]
  },
  {
   "cell_type": "code",
   "execution_count": 4,
   "id": "6a238717-bc6e-49ac-a3fa-72312d00282a",
   "metadata": {},
   "outputs": [
    {
     "data": {
      "text/plain": [
       "2"
      ]
     },
     "execution_count": 4,
     "metadata": {},
     "output_type": "execute_result"
    }
   ],
   "source": [
    "x"
   ]
  },
  {
   "cell_type": "code",
   "execution_count": 5,
   "id": "ffbe1755-5d21-4e89-9d9c-2928b413c8f3",
   "metadata": {},
   "outputs": [
    {
     "name": "stdout",
     "output_type": "stream",
     "text": [
      "2\n"
     ]
    }
   ],
   "source": [
    "print(x)"
   ]
  },
  {
   "cell_type": "code",
   "execution_count": 6,
   "id": "5c4edbdc-bb30-4806-9e54-06cc653081a5",
   "metadata": {},
   "outputs": [
    {
     "data": {
      "text/plain": [
       "int"
      ]
     },
     "execution_count": 6,
     "metadata": {},
     "output_type": "execute_result"
    }
   ],
   "source": [
    "type(x)"
   ]
  },
  {
   "cell_type": "code",
   "execution_count": 7,
   "id": "6b8d7ace-9752-44da-b9af-fe3074e45b0e",
   "metadata": {},
   "outputs": [],
   "source": [
    "y = 5.678"
   ]
  },
  {
   "cell_type": "code",
   "execution_count": 8,
   "id": "07f96f6d-37b4-45d7-9d88-1e9174f0996c",
   "metadata": {},
   "outputs": [
    {
     "data": {
      "text/plain": [
       "float"
      ]
     },
     "execution_count": 8,
     "metadata": {},
     "output_type": "execute_result"
    }
   ],
   "source": [
    "type(y)"
   ]
  },
  {
   "cell_type": "code",
   "execution_count": 9,
   "id": "94d1ebe5-f70a-4b93-af62-aca4515fd244",
   "metadata": {},
   "outputs": [],
   "source": [
    "z = 'Brazil'"
   ]
  },
  {
   "cell_type": "code",
   "execution_count": 10,
   "id": "5bd00d2b-870c-4986-82b7-15bb072e8cab",
   "metadata": {},
   "outputs": [
    {
     "data": {
      "text/plain": [
       "str"
      ]
     },
     "execution_count": 10,
     "metadata": {},
     "output_type": "execute_result"
    }
   ],
   "source": [
    "type(z)"
   ]
  },
  {
   "cell_type": "code",
   "execution_count": 11,
   "id": "3fad97f4-09de-4857-a171-b6ef68babee9",
   "metadata": {},
   "outputs": [
    {
     "data": {
      "text/plain": [
       "str"
      ]
     },
     "execution_count": 11,
     "metadata": {},
     "output_type": "execute_result"
    }
   ],
   "source": [
    "type('Mania')"
   ]
  },
  {
   "cell_type": "code",
   "execution_count": 12,
   "id": "bfa21f56-de90-49bf-90ad-16c193278937",
   "metadata": {},
   "outputs": [
    {
     "ename": "NameError",
     "evalue": "name 'true' is not defined",
     "output_type": "error",
     "traceback": [
      "\u001b[1;31m---------------------------------------------------------------------------\u001b[0m",
      "\u001b[1;31mNameError\u001b[0m                                 Traceback (most recent call last)",
      "Cell \u001b[1;32mIn[12], line 1\u001b[0m\n\u001b[1;32m----> 1\u001b[0m \u001b[38;5;28mtype\u001b[39m(true)\n",
      "\u001b[1;31mNameError\u001b[0m: name 'true' is not defined"
     ]
    }
   ],
   "source": [
    "type(true)"
   ]
  },
  {
   "cell_type": "code",
   "execution_count": 13,
   "id": "95388351-32b2-4829-95d3-b6382c951bea",
   "metadata": {},
   "outputs": [
    {
     "data": {
      "text/plain": [
       "bool"
      ]
     },
     "execution_count": 13,
     "metadata": {},
     "output_type": "execute_result"
    }
   ],
   "source": [
    "type(True)"
   ]
  },
  {
   "cell_type": "code",
   "execution_count": 14,
   "id": "06978ef8-efe1-43fb-957f-2717c55009c6",
   "metadata": {},
   "outputs": [
    {
     "data": {
      "text/plain": [
       "bool"
      ]
     },
     "execution_count": 14,
     "metadata": {},
     "output_type": "execute_result"
    }
   ],
   "source": [
    "type(False)"
   ]
  },
  {
   "cell_type": "code",
   "execution_count": 15,
   "id": "c0c0fb44-1c86-4d7d-a3f6-0e0981e3edb8",
   "metadata": {},
   "outputs": [
    {
     "name": "stdout",
     "output_type": "stream",
     "text": [
      "2\n"
     ]
    }
   ],
   "source": [
    "print(x)"
   ]
  },
  {
   "cell_type": "code",
   "execution_count": 16,
   "id": "2b97d8bf-f25b-42f4-b831-a0cc0ffdad1c",
   "metadata": {},
   "outputs": [
    {
     "data": {
      "text/plain": [
       "6"
      ]
     },
     "execution_count": 16,
     "metadata": {},
     "output_type": "execute_result"
    }
   ],
   "source": [
    "x + 4"
   ]
  },
  {
   "cell_type": "code",
   "execution_count": 17,
   "id": "e3742f75-d9cf-4f3f-8778-19f0d89fd2dd",
   "metadata": {},
   "outputs": [
    {
     "data": {
      "text/plain": [
       "7.678"
      ]
     },
     "execution_count": 17,
     "metadata": {},
     "output_type": "execute_result"
    }
   ],
   "source": [
    "x + y"
   ]
  },
  {
   "cell_type": "code",
   "execution_count": 19,
   "id": "295c1f71-3002-4bbf-ae47-3b3e4dd3e266",
   "metadata": {},
   "outputs": [],
   "source": [
    "x = x + 4"
   ]
  },
  {
   "cell_type": "code",
   "execution_count": 20,
   "id": "78bf8865-17f0-4596-b728-83dfaa3af1c6",
   "metadata": {},
   "outputs": [
    {
     "name": "stdout",
     "output_type": "stream",
     "text": [
      "10\n"
     ]
    }
   ],
   "source": [
    "print(x)"
   ]
  },
  {
   "cell_type": "code",
   "execution_count": 21,
   "id": "c4c9dff2-ab70-4c2f-8ec1-d361e91208c4",
   "metadata": {},
   "outputs": [],
   "source": [
    "x = 2"
   ]
  },
  {
   "cell_type": "code",
   "execution_count": 22,
   "id": "6f0a6be7-a0bf-4a00-a318-769409bf3dba",
   "metadata": {},
   "outputs": [
    {
     "data": {
      "text/plain": [
       "6"
      ]
     },
     "execution_count": 22,
     "metadata": {},
     "output_type": "execute_result"
    }
   ],
   "source": [
    "x + 4"
   ]
  },
  {
   "cell_type": "code",
   "execution_count": 23,
   "id": "26c4ea93-aebd-4ddd-8b5f-aafae43a288b",
   "metadata": {},
   "outputs": [],
   "source": [
    "x = x + 4"
   ]
  },
  {
   "cell_type": "code",
   "execution_count": 24,
   "id": "0e6b4040-5d23-4b62-9771-a39042c7f683",
   "metadata": {},
   "outputs": [
    {
     "name": "stdout",
     "output_type": "stream",
     "text": [
      "6\n"
     ]
    }
   ],
   "source": [
    "print(x)"
   ]
  },
  {
   "cell_type": "code",
   "execution_count": 25,
   "id": "6175e502-fee8-4408-b0ce-3ae24ff56260",
   "metadata": {},
   "outputs": [],
   "source": [
    "a = 'Hello, '"
   ]
  },
  {
   "cell_type": "code",
   "execution_count": 26,
   "id": "6c8ac4d3-e3d3-4af5-9ec6-33c9b8b77eb6",
   "metadata": {},
   "outputs": [],
   "source": [
    "b = 'Marley'"
   ]
  },
  {
   "cell_type": "code",
   "execution_count": 27,
   "id": "5eaefbb3-6184-4165-ab77-f686894633c5",
   "metadata": {},
   "outputs": [
    {
     "data": {
      "text/plain": [
       "'Hello, Marley'"
      ]
     },
     "execution_count": 27,
     "metadata": {},
     "output_type": "execute_result"
    }
   ],
   "source": [
    "a + b"
   ]
  },
  {
   "cell_type": "code",
   "execution_count": 28,
   "id": "bd371eda-4595-4b9a-bb82-c9a3f04446c9",
   "metadata": {},
   "outputs": [],
   "source": [
    "n = 'potato'"
   ]
  },
  {
   "cell_type": "code",
   "execution_count": 29,
   "id": "da075ac8-308c-438a-818d-d57d16c21364",
   "metadata": {},
   "outputs": [
    {
     "data": {
      "text/plain": [
       "'potatopotatopotatopotatopotatopotatopotatopotatopotatopotatopotatopotato'"
      ]
     },
     "execution_count": 29,
     "metadata": {},
     "output_type": "execute_result"
    }
   ],
   "source": [
    "n * 12"
   ]
  },
  {
   "cell_type": "code",
   "execution_count": 30,
   "id": "4486fb84-90b6-4b2b-a3ee-7636f45ee128",
   "metadata": {},
   "outputs": [
    {
     "data": {
      "text/plain": [
       "False"
      ]
     },
     "execution_count": 30,
     "metadata": {},
     "output_type": "execute_result"
    }
   ],
   "source": [
    "x == y"
   ]
  },
  {
   "cell_type": "code",
   "execution_count": 31,
   "id": "76fd2b8f-eb09-489a-9c3c-2f42a3a715f4",
   "metadata": {},
   "outputs": [
    {
     "data": {
      "text/plain": [
       "bool"
      ]
     },
     "execution_count": 31,
     "metadata": {},
     "output_type": "execute_result"
    }
   ],
   "source": [
    "type(x == y)"
   ]
  },
  {
   "cell_type": "code",
   "execution_count": 4,
   "id": "494a76c3-37f9-456f-864d-e611cfe6f4a1",
   "metadata": {},
   "outputs": [],
   "source": [
    "x = 6"
   ]
  },
  {
   "cell_type": "code",
   "execution_count": 6,
   "id": "e8d0badf-98b8-4f36-b4fa-a08bddab1073",
   "metadata": {},
   "outputs": [
    {
     "name": "stdout",
     "output_type": "stream",
     "text": [
      "6\n"
     ]
    }
   ],
   "source": [
    "print(x)"
   ]
  },
  {
   "cell_type": "markdown",
   "id": "f0a0b02c-dc2c-4c23-8e7c-bc102cc00fcc",
   "metadata": {},
   "source": [
    "### 03. 4.2 Task"
   ]
  },
  {
   "cell_type": "code",
   "execution_count": 7,
   "id": "e811cd3f-1fca-4923-816e-a581ccaf2b61",
   "metadata": {},
   "outputs": [
    {
     "data": {
      "text/plain": [
       "100"
      ]
     },
     "execution_count": 7,
     "metadata": {},
     "output_type": "execute_result"
    }
   ],
   "source": [
    "x + 94"
   ]
  },
  {
   "cell_type": "code",
   "execution_count": 8,
   "id": "d74d7c67-f7e8-4ec5-a6d4-c458e5a276cb",
   "metadata": {},
   "outputs": [
    {
     "data": {
      "text/plain": [
       "100"
      ]
     },
     "execution_count": 8,
     "metadata": {},
     "output_type": "execute_result"
    }
   ],
   "source": [
    "106 - x"
   ]
  },
  {
   "cell_type": "code",
   "execution_count": 9,
   "id": "8eb8f49f-cc0a-4381-a9b1-9d6fad84c80a",
   "metadata": {},
   "outputs": [
    {
     "data": {
      "text/plain": [
       "100"
      ]
     },
     "execution_count": 9,
     "metadata": {},
     "output_type": "execute_result"
    }
   ],
   "source": [
    "x * 17 - 2"
   ]
  },
  {
   "cell_type": "code",
   "execution_count": 10,
   "id": "8a502493-ed43-486a-8ece-5dee636d7bd5",
   "metadata": {},
   "outputs": [],
   "source": [
    "y = 8.75"
   ]
  },
  {
   "cell_type": "code",
   "execution_count": 11,
   "id": "1e92e650-5525-46b9-b676-ebe485ce0499",
   "metadata": {},
   "outputs": [],
   "source": [
    "z = 3.24"
   ]
  },
  {
   "cell_type": "code",
   "execution_count": 12,
   "id": "f45d9de9-4deb-4843-8425-c193d4180f0c",
   "metadata": {},
   "outputs": [
    {
     "data": {
      "text/plain": [
       "2.700617283950617"
      ]
     },
     "execution_count": 12,
     "metadata": {},
     "output_type": "execute_result"
    }
   ],
   "source": [
    "y / z"
   ]
  },
  {
   "cell_type": "code",
   "execution_count": 14,
   "id": "2ddd6f90-aa95-4757-afe0-dab964dc65a2",
   "metadata": {},
   "outputs": [],
   "source": [
    "a = 'over'"
   ]
  },
  {
   "cell_type": "code",
   "execution_count": 15,
   "id": "f11f1cd0-5899-4f9d-97bc-46d954d12b1c",
   "metadata": {},
   "outputs": [],
   "source": [
    "b = 'look'"
   ]
  },
  {
   "cell_type": "code",
   "execution_count": 16,
   "id": "c46cfe6f-5b07-4eb6-8475-621cc6958392",
   "metadata": {},
   "outputs": [
    {
     "data": {
      "text/plain": [
       "'overlook'"
      ]
     },
     "execution_count": 16,
     "metadata": {},
     "output_type": "execute_result"
    }
   ],
   "source": [
    "a + b"
   ]
  },
  {
   "cell_type": "code",
   "execution_count": 17,
   "id": "679dc32b-40e8-4303-a82e-0494ea6d2493",
   "metadata": {},
   "outputs": [],
   "source": [
    "c = 'the '"
   ]
  },
  {
   "cell_type": "code",
   "execution_count": 18,
   "id": "e2dac0c0-5aaa-4027-a1a5-6e3b923fe82e",
   "metadata": {},
   "outputs": [],
   "source": [
    "d = 'hotel '"
   ]
  },
  {
   "cell_type": "code",
   "execution_count": 19,
   "id": "5194032c-d695-4c90-9fef-0fea77ddf463",
   "metadata": {},
   "outputs": [],
   "source": [
    "e = 'is '"
   ]
  },
  {
   "cell_type": "code",
   "execution_count": 20,
   "id": "d03a40cc-d408-4544-a010-eeabedce970d",
   "metadata": {},
   "outputs": [],
   "source": [
    "f = 'haunted.'"
   ]
  },
  {
   "cell_type": "code",
   "execution_count": 21,
   "id": "8fa1fe96-17ef-4c5b-9803-e93b49e4feee",
   "metadata": {},
   "outputs": [],
   "source": [
    "b = 'look '"
   ]
  },
  {
   "cell_type": "code",
   "execution_count": 22,
   "id": "0d6d9727-cc25-4d61-b25e-f21d16a7726e",
   "metadata": {},
   "outputs": [
    {
     "data": {
      "text/plain": [
       "'the overlook is haunted.'"
      ]
     },
     "execution_count": 22,
     "metadata": {},
     "output_type": "execute_result"
    }
   ],
   "source": [
    "c + a + b + e + f"
   ]
  },
  {
   "cell_type": "code",
   "execution_count": 23,
   "id": "69429a3f-34af-43c8-baf0-4dbfd36b385e",
   "metadata": {},
   "outputs": [
    {
     "data": {
      "text/plain": [
       "'the overlook hotel is haunted.'"
      ]
     },
     "execution_count": 23,
     "metadata": {},
     "output_type": "execute_result"
    }
   ],
   "source": [
    "c + a + b + d + e + f"
   ]
  },
  {
   "cell_type": "code",
   "execution_count": 24,
   "id": "4f0f5c3a-4eb6-47ce-bce6-e03c860b9c0c",
   "metadata": {},
   "outputs": [
    {
     "ename": "SyntaxError",
     "evalue": "unterminated string literal (detected at line 1) (3173028760.py, line 1)",
     "output_type": "error",
     "traceback": [
      "\u001b[1;36m  Cell \u001b[1;32mIn[24], line 1\u001b[1;36m\u001b[0m\n\u001b[1;33m    g = 'Don't '\u001b[0m\n\u001b[1;37m               ^\u001b[0m\n\u001b[1;31mSyntaxError\u001b[0m\u001b[1;31m:\u001b[0m unterminated string literal (detected at line 1)\n"
     ]
    }
   ],
   "source": [
    "g = 'Don't '"
   ]
  },
  {
   "cell_type": "code",
   "execution_count": 25,
   "id": "d4fdb301-f196-45fa-9487-8d10ddab0c28",
   "metadata": {},
   "outputs": [],
   "source": [
    "g = \"Do not \""
   ]
  },
  {
   "cell_type": "code",
   "execution_count": 26,
   "id": "59c9d4dc-560e-4f2f-9b2a-58bf140442f8",
   "metadata": {},
   "outputs": [],
   "source": [
    "h = 'stay '"
   ]
  },
  {
   "cell_type": "code",
   "execution_count": 27,
   "id": "26bd3a88-7ac5-4fed-8815-a4603b918455",
   "metadata": {},
   "outputs": [],
   "source": [
    "i = 'in a '"
   ]
  },
  {
   "cell_type": "code",
   "execution_count": 28,
   "id": "68d6c33f-16fc-401b-a5ec-d1bd87b0fa48",
   "metadata": {},
   "outputs": [
    {
     "data": {
      "text/plain": [
       "'Do not stay in a haunted.hotel '"
      ]
     },
     "execution_count": 28,
     "metadata": {},
     "output_type": "execute_result"
    }
   ],
   "source": [
    "g + h + i + f + d"
   ]
  },
  {
   "cell_type": "code",
   "execution_count": 29,
   "id": "373ee488-48ec-4dc8-8efd-d50ecd910d7a",
   "metadata": {},
   "outputs": [],
   "source": [
    "f = 'haunted '"
   ]
  },
  {
   "cell_type": "code",
   "execution_count": 30,
   "id": "527dfb55-7632-466a-a790-e7e5cb83f0be",
   "metadata": {},
   "outputs": [
    {
     "data": {
      "text/plain": [
       "'Do not stay in a haunted hotel '"
      ]
     },
     "execution_count": 30,
     "metadata": {},
     "output_type": "execute_result"
    }
   ],
   "source": [
    "g + h + i + f + d"
   ]
  },
  {
   "cell_type": "code",
   "execution_count": 31,
   "id": "69f8068e-a22b-4d09-b7df-17707934b5cc",
   "metadata": {},
   "outputs": [],
   "source": [
    "d = 'hotel.'"
   ]
  },
  {
   "cell_type": "code",
   "execution_count": 32,
   "id": "dc0751f4-8635-4692-9432-80784af1381e",
   "metadata": {},
   "outputs": [
    {
     "data": {
      "text/plain": [
       "'Do not stay in a haunted hotel.'"
      ]
     },
     "execution_count": 32,
     "metadata": {},
     "output_type": "execute_result"
    }
   ],
   "source": [
    "g + h + i + f + d"
   ]
  },
  {
   "cell_type": "code",
   "execution_count": 33,
   "id": "de554e56-8fe9-4f82-a486-8a346f7ee108",
   "metadata": {},
   "outputs": [
    {
     "data": {
      "text/plain": [
       "'haunted haunted haunted haunted haunted haunted haunted haunted haunted haunted haunted haunted haunted haunted haunted haunted haunted haunted haunted haunted haunted haunted haunted haunted haunted haunted haunted haunted haunted haunted haunted haunted haunted haunted haunted haunted haunted haunted haunted haunted haunted haunted haunted haunted haunted haunted haunted haunted haunted haunted haunted haunted haunted haunted haunted haunted haunted haunted haunted haunted haunted haunted haunted haunted haunted haunted haunted haunted haunted haunted haunted haunted haunted haunted haunted haunted haunted haunted haunted haunted haunted haunted haunted haunted haunted haunted haunted haunted haunted haunted haunted haunted haunted haunted haunted haunted haunted haunted haunted haunted '"
      ]
     },
     "execution_count": 33,
     "metadata": {},
     "output_type": "execute_result"
    }
   ],
   "source": [
    "f * 100"
   ]
  }
 ],
 "metadata": {
  "kernelspec": {
   "display_name": "Python 3 (ipykernel)",
   "language": "python",
   "name": "python3"
  },
  "language_info": {
   "codemirror_mode": {
    "name": "ipython",
    "version": 3
   },
   "file_extension": ".py",
   "mimetype": "text/x-python",
   "name": "python",
   "nbconvert_exporter": "python",
   "pygments_lexer": "ipython3",
   "version": "3.12.7"
  }
 },
 "nbformat": 4,
 "nbformat_minor": 5
}
